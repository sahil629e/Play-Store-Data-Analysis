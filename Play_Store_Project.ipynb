{
  "nbformat": 4,
  "nbformat_minor": 0,
  "metadata": {
    "colab": {
      "provenance": [],
      "collapsed_sections": [
        "zyLBy_1NiVBo",
        "f_FZhPevi6po",
        "yv3VCId1FK6T",
        "aKmlTyjsJe0F",
        "N5JaTBczImvp",
        "VNybc4_GGW1C",
        "C6u07KPfI7j5",
        "mFYgzLJeH2o2",
        "gVWnT4GjS7J9",
        "PKEdbxmAToiy",
        "7wtXja0gKXNb",
        "aqkmSKlTKvSZ",
        "eMypKmVpO_T5",
        "kPJk5dY9PvsZ",
        "bzep3oiZRAt6",
        "CKAUNrfnRNf4",
        "ZaZnz1iER4Oi",
        "9JgVky7kSysw",
        "YXpIt9MhSOOp"
      ],
      "include_colab_link": true
    },
    "kernelspec": {
      "name": "python3",
      "display_name": "Python 3"
    },
    "language_info": {
      "name": "python"
    }
  },
  "cells": [
    {
      "cell_type": "markdown",
      "metadata": {
        "id": "view-in-github",
        "colab_type": "text"
      },
      "source": [
        "<a href=\"https://colab.research.google.com/github/Klearpixeloff/EDA_google_play_store_data_analysis/blob/main/Play_Store_Project.ipynb\" target=\"_parent\"><img src=\"https://colab.research.google.com/assets/colab-badge.svg\" alt=\"Open In Colab\"/></a>"
      ]
    },
    {
      "cell_type": "markdown",
      "source": [
        "![share_google_play_logo.png](data:image/png;base64,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)"
      ],
      "metadata": {
        "id": "JIn_CrzsIIay"
      }
    },
    {
      "cell_type": "markdown",
      "source": [
        "**Android is the dominant mobile operating system today with about 85% of all mobile devices running Google’s OS. The Google Play Store is the largest and most popular Android app store.\n",
        "The purpose of our project was to gather and analyze detailed information on apps in the Google Play Store in order to provide insights on app features and the current state of the Android app market.\n",
        "The Play Store apps data has enormous potential to drive app-making businesses to success. Actionable insights can be drawn for developers to work on and capture the Android market.\n",
        "Each app (row) has values for catergory, rating, size, and more. Another dataset contains customer reviews of the android apps.\n",
        "Explore and analyze the data to discover key factors responsible for app engagement and success**"
      ],
      "metadata": {
        "id": "7GLTXTfeITKB"
      }
    },
    {
      "cell_type": "markdown",
      "source": [
        "**Project Type**    - EDA\n",
        "\n",
        "**Contribution**    - Team"
      ],
      "metadata": {
        "id": "eYvrsp0cVYgI"
      }
    },
    {
      "cell_type": "markdown",
      "source": [
        "The notebook intends to analyse over ten thousand apps from Google Play Store apps to devise pricing strategies.\n",
        "\n",
        "The data consists of two files:\n",
        "\n",
        "**Play Store Data.csv:** contains all the details of the applications on Google Play. There are 13 features that describe a given app.\n",
        "\n",
        "**user_reviews.csv:** contains 100 reviews for each app. The ranking is based on the contribution to the sentiment analysis.\n",
        "\n",
        "The text in each review has been pre-processed and attributed with three new features:\n",
        "Sentiment (Positive, Negative or Neutral), Sentiment Polarity and Sentiment Subjectivity."
      ],
      "metadata": {
        "id": "Bz8LcLvuIV_Y"
      }
    },
    {
      "cell_type": "markdown",
      "source": [
        "**Steps:**\n",
        "\n",
        "\n",
        "\n",
        "\n",
        "1.   Importing libraries\n",
        "2.   load the Data\n",
        "3.   Description of Data\n",
        "4.   Cleaning the Data\n",
        "5.   Top 10 Highest rating Apps in google play store in terms of categories\n",
        "6.   Number of Application in terms of Category\n",
        "7.   Top 10 apps which has more downloads\n",
        "8.   Which 10 apps from the 'FAMILY' category are having the lowest rating and highest rating.\n",
        "9.   Free and Paid Apps\n",
        "10.  Relation between app category and app price\n",
        "12.  Filter out \"junk\" apps\n",
        "13.  Sentiment analysis of user reviews\n"
      ],
      "metadata": {
        "id": "eBcVE-QtIaZ5"
      }
    },
    {
      "cell_type": "markdown",
      "source": [
        "#**Project Name - Play Store App Reviews Analysis**#"
      ],
      "metadata": {
        "id": "t8cEHEjkVOP5"
      }
    },
    {
      "cell_type": "markdown",
      "source": [
        "**NAME : ABHISHEK JAIN**\n",
        "\n",
        "**NAME : KHUSHBOO CHAURASIYA**\n",
        "\n",
        "**NAME : KALPITA MALVIYA**\n",
        "\n",
        "**NAME : DHEERAJ GEDHAM**\n",
        "\n",
        "\n"
      ],
      "metadata": {
        "id": "4gLZBDm4SvuI"
      }
    },
    {
      "cell_type": "markdown",
      "source": [
        "#**Github link**#"
      ],
      "metadata": {
        "id": "oiCo58sMsstc"
      }
    },
    {
      "cell_type": "markdown",
      "source": [
        "ABHISHEK JAIN   -\n",
        " https://github.com/Klearpixeloff/EDA_google_play_store_data_analysis \n",
        "\n",
        "KALPITA MALVIYA   -\n",
        " https://github.com/kalpitamalviya/Play-Store-App-Data-Analysis\n",
        "\n",
        "KHUSHBOO CHAURASIYA   -\n",
        " https://github.com/Geniuskhushboo/google_play_store_data_analysis\n",
        "\n",
        " DHEERAJ GEDAM   -\n",
        " https://github.com/dheerajgedam/playstoreEDA.git "
      ],
      "metadata": {
        "id": "uRZN1qlgswly"
      }
    },
    {
      "cell_type": "markdown",
      "source": [
        "# **Project Summary -**"
      ],
      "metadata": {
        "id": "zyLBy_1NiVBo"
      }
    },
    {
      "cell_type": "markdown",
      "source": [
        "In this our project we aimed to gather and analyze detailed information on apps in the Google Play Store in order to provide insights on app\n",
        "features and the current state of the Android app market.\n",
        "\n",
        "We used pandas,numpy,matplotlib and also seaborn liberires to perfome logics for data cleaning and visualization.\n",
        "\n",
        "A few thousands of new applications are regularly uploaded on Google play store. A huge number of designers working freely on designing the apps and making them successful. With the enormous challenge from everywhere throughout the globe, it is important for a developer to know whether he/she is continuing the correct way or not. Since most Play Store applications are free, the income model is very obscure and inaccessible regarding how the in-application buys, in-application adverts and memberships add to the achievement of an application. In this way, an application's prosperity is normally dictated by the quantity of installation of the application and the client appraisals that it has gotten over its lifetime instead of the income is created. The objective of this experiment is to deliver insights to understand customer demands better and thus help developers to popularize the product.\n",
        "\n",
        "We have tried to discover the relationships among various attributes such as which application is free or paid, what are the user reviews, rating of the application."
      ],
      "metadata": {
        "id": "cDGjZyduicmJ"
      }
    },
    {
      "cell_type": "markdown",
      "source": [
        "# **Problem Statement**"
      ],
      "metadata": {
        "id": "f_FZhPevi6po"
      }
    },
    {
      "cell_type": "markdown",
      "source": [
        "Explore and analysis the data to discover key factors responsible for app engagement and success\n",
        "\n",
        "Two datasets are provided, one with basic information (play store Data.csv and the  other with user reviews (User Reviews.csv) for the respective app.\n",
        "We must examine and evaluate the data in both datasets in order to  identify the important characteristics that inﬂuence app  engagement and success."
      ],
      "metadata": {
        "id": "dXR9C1uqjAFo"
      }
    },
    {
      "cell_type": "markdown",
      "source": [
        "# **Business Objective**"
      ],
      "metadata": {
        "id": "pmsAKEDejT9o"
      }
    },
    {
      "cell_type": "markdown",
      "source": [
        "To analysis which Apps are used by users based on Category,Genere,installation,size,type etc that help to Developer for their wright dimension."
      ],
      "metadata": {
        "id": "JKd2ZCs2Sn7J"
      }
    },
    {
      "cell_type": "markdown",
      "source": [
        "#**Importing the libraries**#"
      ],
      "metadata": {
        "id": "yv3VCId1FK6T"
      }
    },
    {
      "cell_type": "code",
      "source": [
        "import pandas as pd\n",
        "import numpy as np\n",
        "import matplotlib.pyplot as plt\n",
        "from datetime import datetime\n",
        "import seaborn as sns"
      ],
      "metadata": {
        "id": "YRzQpeA1LwnO"
      },
      "execution_count": null,
      "outputs": []
    },
    {
      "cell_type": "markdown",
      "source": [
        "#**Load the play store data**#\n"
      ],
      "metadata": {
        "id": "aKmlTyjsJe0F"
      }
    },
    {
      "cell_type": "code",
      "source": [
        "from google.colab import drive\n",
        "drive.mount('/content/drive/')\n",
        "\n"
      ],
      "metadata": {
        "colab": {
          "base_uri": "https://localhost:8080/"
        },
        "id": "TjH441FoJdrP",
        "outputId": "e5724bc3-809f-4ba4-a75d-3bb19b475871"
      },
      "execution_count": null,
      "outputs": [
        {
          "output_type": "stream",
          "name": "stdout",
          "text": [
            "Mounted at /content/drive/\n"
          ]
        }
      ]
    },
    {
      "cell_type": "code",
      "source": [
        "df = pd.read_csv('drive/MyDrive/Play Store Data.csv')\n",
        "\n",
        "ad=pd.read_csv('drive/MyDrive/Play Store Data.csv')"
      ],
      "metadata": {
        "id": "kKAY0WAaKTF-"
      },
      "execution_count": null,
      "outputs": []
    },
    {
      "cell_type": "markdown",
      "source": [
        "#**Main Dataset**#"
      ],
      "metadata": {
        "id": "N5JaTBczImvp"
      }
    },
    {
      "cell_type": "markdown",
      "source": [],
      "metadata": {
        "id": "3ZNJ1ieAIreR"
      }
    },
    {
      "cell_type": "markdown",
      "source": [
        "This file contains data on the Google Play applications. It has 10,841 rows of data with the following columns:\n",
        "\n",
        "**App Category:** Category of the app. This could be beauty, business, entertainment, education...etc.\n",
        "\n",
        "**Rating:** How users rate the app out of 5, with 1 being the lowest rating and 5 being the highest.\n",
        "\n",
        "**Reviews:** The number of user reviews each app has received.\n",
        "\n",
        "**Size:** The memory size needed to install the application.\n",
        "\n",
        "**Installs:** The number of times each application has been installed by users.\n",
        "\n",
        "**Type:** Whether the app is free or a paid app.\n",
        "\n",
        "**Price:** The price of the app.\n",
        "\n",
        "**Content Rating:** This column specifies the intended audience for the app. Can be for teens, mature audience, or everyone.\n",
        "\n",
        "**Genres:** The sub-category for each app. Example: for the Education category, this could be Education: Pretend Play, for example.\n",
        "\n",
        "**Last Updated:** Release date of the most recent update for the app.\n",
        "\n",
        "**Current Ver:** The app's current version.\n",
        "\n",
        "**Android Ver:** The oldest version of Android OS supported by the app."
      ],
      "metadata": {
        "id": "UUYW0_4HIru6"
      }
    },
    {
      "cell_type": "markdown",
      "source": [
        "#**Load the user review data**#"
      ],
      "metadata": {
        "id": "VNybc4_GGW1C"
      }
    },
    {
      "cell_type": "code",
      "source": [
        "df2= pd.read_csv('drive/MyDrive/User Reviews.csv')\n",
        "\n",
        "df2"
      ],
      "metadata": {
        "colab": {
          "base_uri": "https://localhost:8080/",
          "height": 424
        },
        "id": "yZuhgxPKGdK2",
        "outputId": "1fdea1ed-63e3-4644-f05e-fd65affa7c1b"
      },
      "execution_count": null,
      "outputs": [
        {
          "output_type": "execute_result",
          "data": {
            "text/plain": [
              "                               App  \\\n",
              "0            10 Best Foods for You   \n",
              "1            10 Best Foods for You   \n",
              "2            10 Best Foods for You   \n",
              "3            10 Best Foods for You   \n",
              "4            10 Best Foods for You   \n",
              "...                            ...   \n",
              "64290  Houzz Interior Design Ideas   \n",
              "64291  Houzz Interior Design Ideas   \n",
              "64292  Houzz Interior Design Ideas   \n",
              "64293  Houzz Interior Design Ideas   \n",
              "64294  Houzz Interior Design Ideas   \n",
              "\n",
              "                                       Translated_Review Sentiment  \\\n",
              "0      I like eat delicious food. That's I'm cooking ...  Positive   \n",
              "1        This help eating healthy exercise regular basis  Positive   \n",
              "2                                                    NaN       NaN   \n",
              "3             Works great especially going grocery store  Positive   \n",
              "4                                           Best idea us  Positive   \n",
              "...                                                  ...       ...   \n",
              "64290                                                NaN       NaN   \n",
              "64291                                                NaN       NaN   \n",
              "64292                                                NaN       NaN   \n",
              "64293                                                NaN       NaN   \n",
              "64294                                                NaN       NaN   \n",
              "\n",
              "       Sentiment_Polarity  Sentiment_Subjectivity  \n",
              "0                    1.00                0.533333  \n",
              "1                    0.25                0.288462  \n",
              "2                     NaN                     NaN  \n",
              "3                    0.40                0.875000  \n",
              "4                    1.00                0.300000  \n",
              "...                   ...                     ...  \n",
              "64290                 NaN                     NaN  \n",
              "64291                 NaN                     NaN  \n",
              "64292                 NaN                     NaN  \n",
              "64293                 NaN                     NaN  \n",
              "64294                 NaN                     NaN  \n",
              "\n",
              "[64295 rows x 5 columns]"
            ],
            "text/html": [
              "\n",
              "  <div id=\"df-f1eca607-9c7d-4d9c-9af0-abd4d9a080b1\">\n",
              "    <div class=\"colab-df-container\">\n",
              "      <div>\n",
              "<style scoped>\n",
              "    .dataframe tbody tr th:only-of-type {\n",
              "        vertical-align: middle;\n",
              "    }\n",
              "\n",
              "    .dataframe tbody tr th {\n",
              "        vertical-align: top;\n",
              "    }\n",
              "\n",
              "    .dataframe thead th {\n",
              "        text-align: right;\n",
              "    }\n",
              "</style>\n",
              "<table border=\"1\" class=\"dataframe\">\n",
              "  <thead>\n",
              "    <tr style=\"text-align: right;\">\n",
              "      <th></th>\n",
              "      <th>App</th>\n",
              "      <th>Translated_Review</th>\n",
              "      <th>Sentiment</th>\n",
              "      <th>Sentiment_Polarity</th>\n",
              "      <th>Sentiment_Subjectivity</th>\n",
              "    </tr>\n",
              "  </thead>\n",
              "  <tbody>\n",
              "    <tr>\n",
              "      <th>0</th>\n",
              "      <td>10 Best Foods for You</td>\n",
              "      <td>I like eat delicious food. That's I'm cooking ...</td>\n",
              "      <td>Positive</td>\n",
              "      <td>1.00</td>\n",
              "      <td>0.533333</td>\n",
              "    </tr>\n",
              "    <tr>\n",
              "      <th>1</th>\n",
              "      <td>10 Best Foods for You</td>\n",
              "      <td>This help eating healthy exercise regular basis</td>\n",
              "      <td>Positive</td>\n",
              "      <td>0.25</td>\n",
              "      <td>0.288462</td>\n",
              "    </tr>\n",
              "    <tr>\n",
              "      <th>2</th>\n",
              "      <td>10 Best Foods for You</td>\n",
              "      <td>NaN</td>\n",
              "      <td>NaN</td>\n",
              "      <td>NaN</td>\n",
              "      <td>NaN</td>\n",
              "    </tr>\n",
              "    <tr>\n",
              "      <th>3</th>\n",
              "      <td>10 Best Foods for You</td>\n",
              "      <td>Works great especially going grocery store</td>\n",
              "      <td>Positive</td>\n",
              "      <td>0.40</td>\n",
              "      <td>0.875000</td>\n",
              "    </tr>\n",
              "    <tr>\n",
              "      <th>4</th>\n",
              "      <td>10 Best Foods for You</td>\n",
              "      <td>Best idea us</td>\n",
              "      <td>Positive</td>\n",
              "      <td>1.00</td>\n",
              "      <td>0.300000</td>\n",
              "    </tr>\n",
              "    <tr>\n",
              "      <th>...</th>\n",
              "      <td>...</td>\n",
              "      <td>...</td>\n",
              "      <td>...</td>\n",
              "      <td>...</td>\n",
              "      <td>...</td>\n",
              "    </tr>\n",
              "    <tr>\n",
              "      <th>64290</th>\n",
              "      <td>Houzz Interior Design Ideas</td>\n",
              "      <td>NaN</td>\n",
              "      <td>NaN</td>\n",
              "      <td>NaN</td>\n",
              "      <td>NaN</td>\n",
              "    </tr>\n",
              "    <tr>\n",
              "      <th>64291</th>\n",
              "      <td>Houzz Interior Design Ideas</td>\n",
              "      <td>NaN</td>\n",
              "      <td>NaN</td>\n",
              "      <td>NaN</td>\n",
              "      <td>NaN</td>\n",
              "    </tr>\n",
              "    <tr>\n",
              "      <th>64292</th>\n",
              "      <td>Houzz Interior Design Ideas</td>\n",
              "      <td>NaN</td>\n",
              "      <td>NaN</td>\n",
              "      <td>NaN</td>\n",
              "      <td>NaN</td>\n",
              "    </tr>\n",
              "    <tr>\n",
              "      <th>64293</th>\n",
              "      <td>Houzz Interior Design Ideas</td>\n",
              "      <td>NaN</td>\n",
              "      <td>NaN</td>\n",
              "      <td>NaN</td>\n",
              "      <td>NaN</td>\n",
              "    </tr>\n",
              "    <tr>\n",
              "      <th>64294</th>\n",
              "      <td>Houzz Interior Design Ideas</td>\n",
              "      <td>NaN</td>\n",
              "      <td>NaN</td>\n",
              "      <td>NaN</td>\n",
              "      <td>NaN</td>\n",
              "    </tr>\n",
              "  </tbody>\n",
              "</table>\n",
              "<p>64295 rows × 5 columns</p>\n",
              "</div>\n",
              "      <button class=\"colab-df-convert\" onclick=\"convertToInteractive('df-f1eca607-9c7d-4d9c-9af0-abd4d9a080b1')\"\n",
              "              title=\"Convert this dataframe to an interactive table.\"\n",
              "              style=\"display:none;\">\n",
              "        \n",
              "  <svg xmlns=\"http://www.w3.org/2000/svg\" height=\"24px\"viewBox=\"0 0 24 24\"\n",
              "       width=\"24px\">\n",
              "    <path d=\"M0 0h24v24H0V0z\" fill=\"none\"/>\n",
              "    <path d=\"M18.56 5.44l.94 2.06.94-2.06 2.06-.94-2.06-.94-.94-2.06-.94 2.06-2.06.94zm-11 1L8.5 8.5l.94-2.06 2.06-.94-2.06-.94L8.5 2.5l-.94 2.06-2.06.94zm10 10l.94 2.06.94-2.06 2.06-.94-2.06-.94-.94-2.06-.94 2.06-2.06.94z\"/><path d=\"M17.41 7.96l-1.37-1.37c-.4-.4-.92-.59-1.43-.59-.52 0-1.04.2-1.43.59L10.3 9.45l-7.72 7.72c-.78.78-.78 2.05 0 2.83L4 21.41c.39.39.9.59 1.41.59.51 0 1.02-.2 1.41-.59l7.78-7.78 2.81-2.81c.8-.78.8-2.07 0-2.86zM5.41 20L4 18.59l7.72-7.72 1.47 1.35L5.41 20z\"/>\n",
              "  </svg>\n",
              "      </button>\n",
              "      \n",
              "  <style>\n",
              "    .colab-df-container {\n",
              "      display:flex;\n",
              "      flex-wrap:wrap;\n",
              "      gap: 12px;\n",
              "    }\n",
              "\n",
              "    .colab-df-convert {\n",
              "      background-color: #E8F0FE;\n",
              "      border: none;\n",
              "      border-radius: 50%;\n",
              "      cursor: pointer;\n",
              "      display: none;\n",
              "      fill: #1967D2;\n",
              "      height: 32px;\n",
              "      padding: 0 0 0 0;\n",
              "      width: 32px;\n",
              "    }\n",
              "\n",
              "    .colab-df-convert:hover {\n",
              "      background-color: #E2EBFA;\n",
              "      box-shadow: 0px 1px 2px rgba(60, 64, 67, 0.3), 0px 1px 3px 1px rgba(60, 64, 67, 0.15);\n",
              "      fill: #174EA6;\n",
              "    }\n",
              "\n",
              "    [theme=dark] .colab-df-convert {\n",
              "      background-color: #3B4455;\n",
              "      fill: #D2E3FC;\n",
              "    }\n",
              "\n",
              "    [theme=dark] .colab-df-convert:hover {\n",
              "      background-color: #434B5C;\n",
              "      box-shadow: 0px 1px 3px 1px rgba(0, 0, 0, 0.15);\n",
              "      filter: drop-shadow(0px 1px 2px rgba(0, 0, 0, 0.3));\n",
              "      fill: #FFFFFF;\n",
              "    }\n",
              "  </style>\n",
              "\n",
              "      <script>\n",
              "        const buttonEl =\n",
              "          document.querySelector('#df-f1eca607-9c7d-4d9c-9af0-abd4d9a080b1 button.colab-df-convert');\n",
              "        buttonEl.style.display =\n",
              "          google.colab.kernel.accessAllowed ? 'block' : 'none';\n",
              "\n",
              "        async function convertToInteractive(key) {\n",
              "          const element = document.querySelector('#df-f1eca607-9c7d-4d9c-9af0-abd4d9a080b1');\n",
              "          const dataTable =\n",
              "            await google.colab.kernel.invokeFunction('convertToInteractive',\n",
              "                                                     [key], {});\n",
              "          if (!dataTable) return;\n",
              "\n",
              "          const docLinkHtml = 'Like what you see? Visit the ' +\n",
              "            '<a target=\"_blank\" href=https://colab.research.google.com/notebooks/data_table.ipynb>data table notebook</a>'\n",
              "            + ' to learn more about interactive tables.';\n",
              "          element.innerHTML = '';\n",
              "          dataTable['output_type'] = 'display_data';\n",
              "          await google.colab.output.renderOutput(dataTable, element);\n",
              "          const docLink = document.createElement('div');\n",
              "          docLink.innerHTML = docLinkHtml;\n",
              "          element.appendChild(docLink);\n",
              "        }\n",
              "      </script>\n",
              "    </div>\n",
              "  </div>\n",
              "  "
            ]
          },
          "metadata": {},
          "execution_count": 7
        }
      ]
    },
    {
      "cell_type": "markdown",
      "source": [
        "#**Sentiment Analysis**#"
      ],
      "metadata": {
        "id": "C6u07KPfI7j5"
      }
    },
    {
      "cell_type": "markdown",
      "source": [
        "This file contains the result of the sentiment analysis conducted by the dataset creator. It has 64,295 rows of data with the following columns:\n",
        "\n",
        "**App :** Name of the app.\n",
        "\n",
        "**Translated_Review:** Either the original review in English, or a translated version if the orignal review is in another language.\n",
        "\n",
        "**Sentiment:**  The result of the sentiment analysis conducted on a review. The value is either Positive, Neutral, or Negative.\n",
        "\n",
        "**Sentiment_Polarity:** A value indicating the positivity or negativity of the sentiment, values range from -1 (most negative) to 1 (most positive).\n",
        "\n",
        "**Sentiment_Subjectivity:** A value from 0 to 1 indicating the subjectivity of the review. Lower values indicate the review is based on factual information, and higher values indicate the review is based on personal or public opinions or judgements."
      ],
      "metadata": {
        "id": "y6YPoIKQI-6C"
      }
    },
    {
      "cell_type": "markdown",
      "source": [
        "#**Descripton of Data1**#"
      ],
      "metadata": {
        "id": "mFYgzLJeH2o2"
      }
    },
    {
      "cell_type": "code",
      "source": [
        "df.info()"
      ],
      "metadata": {
        "colab": {
          "base_uri": "https://localhost:8080/"
        },
        "id": "YMNkRXbNH_gI",
        "outputId": "609abc73-828e-4514-e4fd-26c2fd1adf20"
      },
      "execution_count": null,
      "outputs": [
        {
          "output_type": "stream",
          "name": "stdout",
          "text": [
            "<class 'pandas.core.frame.DataFrame'>\n",
            "RangeIndex: 10841 entries, 0 to 10840\n",
            "Data columns (total 13 columns):\n",
            " #   Column          Non-Null Count  Dtype  \n",
            "---  ------          --------------  -----  \n",
            " 0   App             10841 non-null  object \n",
            " 1   Category        10841 non-null  object \n",
            " 2   Rating          9367 non-null   float64\n",
            " 3   Reviews         10841 non-null  object \n",
            " 4   Size            10841 non-null  object \n",
            " 5   Installs        10841 non-null  object \n",
            " 6   Type            10840 non-null  object \n",
            " 7   Price           10841 non-null  object \n",
            " 8   Content Rating  10840 non-null  object \n",
            " 9   Genres          10841 non-null  object \n",
            " 10  Last Updated    10841 non-null  object \n",
            " 11  Current Ver     10833 non-null  object \n",
            " 12  Android Ver     10838 non-null  object \n",
            "dtypes: float64(1), object(12)\n",
            "memory usage: 1.1+ MB\n"
          ]
        }
      ]
    },
    {
      "cell_type": "code",
      "source": [
        "df.describe()"
      ],
      "metadata": {
        "colab": {
          "base_uri": "https://localhost:8080/",
          "height": 300
        },
        "id": "zfIBv_yWl1uq",
        "outputId": "2cbe018c-197a-4f8a-f155-152b35a5b137"
      },
      "execution_count": null,
      "outputs": [
        {
          "output_type": "execute_result",
          "data": {
            "text/plain": [
              "            Rating\n",
              "count  9367.000000\n",
              "mean      4.193338\n",
              "std       0.537431\n",
              "min       1.000000\n",
              "25%       4.000000\n",
              "50%       4.300000\n",
              "75%       4.500000\n",
              "max      19.000000"
            ],
            "text/html": [
              "\n",
              "  <div id=\"df-6eb90094-e8db-4e65-8b9a-3fee73655fcb\">\n",
              "    <div class=\"colab-df-container\">\n",
              "      <div>\n",
              "<style scoped>\n",
              "    .dataframe tbody tr th:only-of-type {\n",
              "        vertical-align: middle;\n",
              "    }\n",
              "\n",
              "    .dataframe tbody tr th {\n",
              "        vertical-align: top;\n",
              "    }\n",
              "\n",
              "    .dataframe thead th {\n",
              "        text-align: right;\n",
              "    }\n",
              "</style>\n",
              "<table border=\"1\" class=\"dataframe\">\n",
              "  <thead>\n",
              "    <tr style=\"text-align: right;\">\n",
              "      <th></th>\n",
              "      <th>Rating</th>\n",
              "    </tr>\n",
              "  </thead>\n",
              "  <tbody>\n",
              "    <tr>\n",
              "      <th>count</th>\n",
              "      <td>9367.000000</td>\n",
              "    </tr>\n",
              "    <tr>\n",
              "      <th>mean</th>\n",
              "      <td>4.193338</td>\n",
              "    </tr>\n",
              "    <tr>\n",
              "      <th>std</th>\n",
              "      <td>0.537431</td>\n",
              "    </tr>\n",
              "    <tr>\n",
              "      <th>min</th>\n",
              "      <td>1.000000</td>\n",
              "    </tr>\n",
              "    <tr>\n",
              "      <th>25%</th>\n",
              "      <td>4.000000</td>\n",
              "    </tr>\n",
              "    <tr>\n",
              "      <th>50%</th>\n",
              "      <td>4.300000</td>\n",
              "    </tr>\n",
              "    <tr>\n",
              "      <th>75%</th>\n",
              "      <td>4.500000</td>\n",
              "    </tr>\n",
              "    <tr>\n",
              "      <th>max</th>\n",
              "      <td>19.000000</td>\n",
              "    </tr>\n",
              "  </tbody>\n",
              "</table>\n",
              "</div>\n",
              "      <button class=\"colab-df-convert\" onclick=\"convertToInteractive('df-6eb90094-e8db-4e65-8b9a-3fee73655fcb')\"\n",
              "              title=\"Convert this dataframe to an interactive table.\"\n",
              "              style=\"display:none;\">\n",
              "        \n",
              "  <svg xmlns=\"http://www.w3.org/2000/svg\" height=\"24px\"viewBox=\"0 0 24 24\"\n",
              "       width=\"24px\">\n",
              "    <path d=\"M0 0h24v24H0V0z\" fill=\"none\"/>\n",
              "    <path d=\"M18.56 5.44l.94 2.06.94-2.06 2.06-.94-2.06-.94-.94-2.06-.94 2.06-2.06.94zm-11 1L8.5 8.5l.94-2.06 2.06-.94-2.06-.94L8.5 2.5l-.94 2.06-2.06.94zm10 10l.94 2.06.94-2.06 2.06-.94-2.06-.94-.94-2.06-.94 2.06-2.06.94z\"/><path d=\"M17.41 7.96l-1.37-1.37c-.4-.4-.92-.59-1.43-.59-.52 0-1.04.2-1.43.59L10.3 9.45l-7.72 7.72c-.78.78-.78 2.05 0 2.83L4 21.41c.39.39.9.59 1.41.59.51 0 1.02-.2 1.41-.59l7.78-7.78 2.81-2.81c.8-.78.8-2.07 0-2.86zM5.41 20L4 18.59l7.72-7.72 1.47 1.35L5.41 20z\"/>\n",
              "  </svg>\n",
              "      </button>\n",
              "      \n",
              "  <style>\n",
              "    .colab-df-container {\n",
              "      display:flex;\n",
              "      flex-wrap:wrap;\n",
              "      gap: 12px;\n",
              "    }\n",
              "\n",
              "    .colab-df-convert {\n",
              "      background-color: #E8F0FE;\n",
              "      border: none;\n",
              "      border-radius: 50%;\n",
              "      cursor: pointer;\n",
              "      display: none;\n",
              "      fill: #1967D2;\n",
              "      height: 32px;\n",
              "      padding: 0 0 0 0;\n",
              "      width: 32px;\n",
              "    }\n",
              "\n",
              "    .colab-df-convert:hover {\n",
              "      background-color: #E2EBFA;\n",
              "      box-shadow: 0px 1px 2px rgba(60, 64, 67, 0.3), 0px 1px 3px 1px rgba(60, 64, 67, 0.15);\n",
              "      fill: #174EA6;\n",
              "    }\n",
              "\n",
              "    [theme=dark] .colab-df-convert {\n",
              "      background-color: #3B4455;\n",
              "      fill: #D2E3FC;\n",
              "    }\n",
              "\n",
              "    [theme=dark] .colab-df-convert:hover {\n",
              "      background-color: #434B5C;\n",
              "      box-shadow: 0px 1px 3px 1px rgba(0, 0, 0, 0.15);\n",
              "      filter: drop-shadow(0px 1px 2px rgba(0, 0, 0, 0.3));\n",
              "      fill: #FFFFFF;\n",
              "    }\n",
              "  </style>\n",
              "\n",
              "      <script>\n",
              "        const buttonEl =\n",
              "          document.querySelector('#df-6eb90094-e8db-4e65-8b9a-3fee73655fcb button.colab-df-convert');\n",
              "        buttonEl.style.display =\n",
              "          google.colab.kernel.accessAllowed ? 'block' : 'none';\n",
              "\n",
              "        async function convertToInteractive(key) {\n",
              "          const element = document.querySelector('#df-6eb90094-e8db-4e65-8b9a-3fee73655fcb');\n",
              "          const dataTable =\n",
              "            await google.colab.kernel.invokeFunction('convertToInteractive',\n",
              "                                                     [key], {});\n",
              "          if (!dataTable) return;\n",
              "\n",
              "          const docLinkHtml = 'Like what you see? Visit the ' +\n",
              "            '<a target=\"_blank\" href=https://colab.research.google.com/notebooks/data_table.ipynb>data table notebook</a>'\n",
              "            + ' to learn more about interactive tables.';\n",
              "          element.innerHTML = '';\n",
              "          dataTable['output_type'] = 'display_data';\n",
              "          await google.colab.output.renderOutput(dataTable, element);\n",
              "          const docLink = document.createElement('div');\n",
              "          docLink.innerHTML = docLinkHtml;\n",
              "          element.appendChild(docLink);\n",
              "        }\n",
              "      </script>\n",
              "    </div>\n",
              "  </div>\n",
              "  "
            ]
          },
          "metadata": {},
          "execution_count": 9
        }
      ]
    },
    {
      "cell_type": "code",
      "source": [
        "df.isnull().sum()"
      ],
      "metadata": {
        "colab": {
          "base_uri": "https://localhost:8080/"
        },
        "id": "HSH0v6s3l16y",
        "outputId": "da2d5d4a-ddef-4f01-edc3-3278b9794772"
      },
      "execution_count": null,
      "outputs": [
        {
          "output_type": "execute_result",
          "data": {
            "text/plain": [
              "App                  0\n",
              "Category             0\n",
              "Rating            1474\n",
              "Reviews              0\n",
              "Size                 0\n",
              "Installs             0\n",
              "Type                 1\n",
              "Price                0\n",
              "Content Rating       1\n",
              "Genres               0\n",
              "Last Updated         0\n",
              "Current Ver          8\n",
              "Android Ver          3\n",
              "dtype: int64"
            ]
          },
          "metadata": {},
          "execution_count": 10
        }
      ]
    },
    {
      "cell_type": "code",
      "source": [
        "df.head()"
      ],
      "metadata": {
        "colab": {
          "base_uri": "https://localhost:8080/",
          "height": 337
        },
        "id": "b3NGhFeOSsYE",
        "outputId": "97b0eaa0-d99d-4ece-e7b0-1663d7d773ba"
      },
      "execution_count": null,
      "outputs": [
        {
          "output_type": "execute_result",
          "data": {
            "text/plain": [
              "                                                 App        Category  Rating  \\\n",
              "0     Photo Editor & Candy Camera & Grid & ScrapBook  ART_AND_DESIGN     4.1   \n",
              "1                                Coloring book moana  ART_AND_DESIGN     3.9   \n",
              "2  U Launcher Lite – FREE Live Cool Themes, Hide ...  ART_AND_DESIGN     4.7   \n",
              "3                              Sketch - Draw & Paint  ART_AND_DESIGN     4.5   \n",
              "4              Pixel Draw - Number Art Coloring Book  ART_AND_DESIGN     4.3   \n",
              "\n",
              "  Reviews  Size     Installs  Type Price Content Rating  \\\n",
              "0     159   19M      10,000+  Free     0       Everyone   \n",
              "1     967   14M     500,000+  Free     0       Everyone   \n",
              "2   87510  8.7M   5,000,000+  Free     0       Everyone   \n",
              "3  215644   25M  50,000,000+  Free     0           Teen   \n",
              "4     967  2.8M     100,000+  Free     0       Everyone   \n",
              "\n",
              "                      Genres      Last Updated         Current Ver  \\\n",
              "0               Art & Design   January 7, 2018               1.0.0   \n",
              "1  Art & Design;Pretend Play  January 15, 2018               2.0.0   \n",
              "2               Art & Design    August 1, 2018               1.2.4   \n",
              "3               Art & Design      June 8, 2018  Varies with device   \n",
              "4    Art & Design;Creativity     June 20, 2018                 1.1   \n",
              "\n",
              "    Android Ver  \n",
              "0  4.0.3 and up  \n",
              "1  4.0.3 and up  \n",
              "2  4.0.3 and up  \n",
              "3    4.2 and up  \n",
              "4    4.4 and up  "
            ],
            "text/html": [
              "\n",
              "  <div id=\"df-c9b2c078-1a43-404d-9a3b-4560cc793b2f\">\n",
              "    <div class=\"colab-df-container\">\n",
              "      <div>\n",
              "<style scoped>\n",
              "    .dataframe tbody tr th:only-of-type {\n",
              "        vertical-align: middle;\n",
              "    }\n",
              "\n",
              "    .dataframe tbody tr th {\n",
              "        vertical-align: top;\n",
              "    }\n",
              "\n",
              "    .dataframe thead th {\n",
              "        text-align: right;\n",
              "    }\n",
              "</style>\n",
              "<table border=\"1\" class=\"dataframe\">\n",
              "  <thead>\n",
              "    <tr style=\"text-align: right;\">\n",
              "      <th></th>\n",
              "      <th>App</th>\n",
              "      <th>Category</th>\n",
              "      <th>Rating</th>\n",
              "      <th>Reviews</th>\n",
              "      <th>Size</th>\n",
              "      <th>Installs</th>\n",
              "      <th>Type</th>\n",
              "      <th>Price</th>\n",
              "      <th>Content Rating</th>\n",
              "      <th>Genres</th>\n",
              "      <th>Last Updated</th>\n",
              "      <th>Current Ver</th>\n",
              "      <th>Android Ver</th>\n",
              "    </tr>\n",
              "  </thead>\n",
              "  <tbody>\n",
              "    <tr>\n",
              "      <th>0</th>\n",
              "      <td>Photo Editor &amp; Candy Camera &amp; Grid &amp; ScrapBook</td>\n",
              "      <td>ART_AND_DESIGN</td>\n",
              "      <td>4.1</td>\n",
              "      <td>159</td>\n",
              "      <td>19M</td>\n",
              "      <td>10,000+</td>\n",
              "      <td>Free</td>\n",
              "      <td>0</td>\n",
              "      <td>Everyone</td>\n",
              "      <td>Art &amp; Design</td>\n",
              "      <td>January 7, 2018</td>\n",
              "      <td>1.0.0</td>\n",
              "      <td>4.0.3 and up</td>\n",
              "    </tr>\n",
              "    <tr>\n",
              "      <th>1</th>\n",
              "      <td>Coloring book moana</td>\n",
              "      <td>ART_AND_DESIGN</td>\n",
              "      <td>3.9</td>\n",
              "      <td>967</td>\n",
              "      <td>14M</td>\n",
              "      <td>500,000+</td>\n",
              "      <td>Free</td>\n",
              "      <td>0</td>\n",
              "      <td>Everyone</td>\n",
              "      <td>Art &amp; Design;Pretend Play</td>\n",
              "      <td>January 15, 2018</td>\n",
              "      <td>2.0.0</td>\n",
              "      <td>4.0.3 and up</td>\n",
              "    </tr>\n",
              "    <tr>\n",
              "      <th>2</th>\n",
              "      <td>U Launcher Lite – FREE Live Cool Themes, Hide ...</td>\n",
              "      <td>ART_AND_DESIGN</td>\n",
              "      <td>4.7</td>\n",
              "      <td>87510</td>\n",
              "      <td>8.7M</td>\n",
              "      <td>5,000,000+</td>\n",
              "      <td>Free</td>\n",
              "      <td>0</td>\n",
              "      <td>Everyone</td>\n",
              "      <td>Art &amp; Design</td>\n",
              "      <td>August 1, 2018</td>\n",
              "      <td>1.2.4</td>\n",
              "      <td>4.0.3 and up</td>\n",
              "    </tr>\n",
              "    <tr>\n",
              "      <th>3</th>\n",
              "      <td>Sketch - Draw &amp; Paint</td>\n",
              "      <td>ART_AND_DESIGN</td>\n",
              "      <td>4.5</td>\n",
              "      <td>215644</td>\n",
              "      <td>25M</td>\n",
              "      <td>50,000,000+</td>\n",
              "      <td>Free</td>\n",
              "      <td>0</td>\n",
              "      <td>Teen</td>\n",
              "      <td>Art &amp; Design</td>\n",
              "      <td>June 8, 2018</td>\n",
              "      <td>Varies with device</td>\n",
              "      <td>4.2 and up</td>\n",
              "    </tr>\n",
              "    <tr>\n",
              "      <th>4</th>\n",
              "      <td>Pixel Draw - Number Art Coloring Book</td>\n",
              "      <td>ART_AND_DESIGN</td>\n",
              "      <td>4.3</td>\n",
              "      <td>967</td>\n",
              "      <td>2.8M</td>\n",
              "      <td>100,000+</td>\n",
              "      <td>Free</td>\n",
              "      <td>0</td>\n",
              "      <td>Everyone</td>\n",
              "      <td>Art &amp; Design;Creativity</td>\n",
              "      <td>June 20, 2018</td>\n",
              "      <td>1.1</td>\n",
              "      <td>4.4 and up</td>\n",
              "    </tr>\n",
              "  </tbody>\n",
              "</table>\n",
              "</div>\n",
              "      <button class=\"colab-df-convert\" onclick=\"convertToInteractive('df-c9b2c078-1a43-404d-9a3b-4560cc793b2f')\"\n",
              "              title=\"Convert this dataframe to an interactive table.\"\n",
              "              style=\"display:none;\">\n",
              "        \n",
              "  <svg xmlns=\"http://www.w3.org/2000/svg\" height=\"24px\"viewBox=\"0 0 24 24\"\n",
              "       width=\"24px\">\n",
              "    <path d=\"M0 0h24v24H0V0z\" fill=\"none\"/>\n",
              "    <path d=\"M18.56 5.44l.94 2.06.94-2.06 2.06-.94-2.06-.94-.94-2.06-.94 2.06-2.06.94zm-11 1L8.5 8.5l.94-2.06 2.06-.94-2.06-.94L8.5 2.5l-.94 2.06-2.06.94zm10 10l.94 2.06.94-2.06 2.06-.94-2.06-.94-.94-2.06-.94 2.06-2.06.94z\"/><path d=\"M17.41 7.96l-1.37-1.37c-.4-.4-.92-.59-1.43-.59-.52 0-1.04.2-1.43.59L10.3 9.45l-7.72 7.72c-.78.78-.78 2.05 0 2.83L4 21.41c.39.39.9.59 1.41.59.51 0 1.02-.2 1.41-.59l7.78-7.78 2.81-2.81c.8-.78.8-2.07 0-2.86zM5.41 20L4 18.59l7.72-7.72 1.47 1.35L5.41 20z\"/>\n",
              "  </svg>\n",
              "      </button>\n",
              "      \n",
              "  <style>\n",
              "    .colab-df-container {\n",
              "      display:flex;\n",
              "      flex-wrap:wrap;\n",
              "      gap: 12px;\n",
              "    }\n",
              "\n",
              "    .colab-df-convert {\n",
              "      background-color: #E8F0FE;\n",
              "      border: none;\n",
              "      border-radius: 50%;\n",
              "      cursor: pointer;\n",
              "      display: none;\n",
              "      fill: #1967D2;\n",
              "      height: 32px;\n",
              "      padding: 0 0 0 0;\n",
              "      width: 32px;\n",
              "    }\n",
              "\n",
              "    .colab-df-convert:hover {\n",
              "      background-color: #E2EBFA;\n",
              "      box-shadow: 0px 1px 2px rgba(60, 64, 67, 0.3), 0px 1px 3px 1px rgba(60, 64, 67, 0.15);\n",
              "      fill: #174EA6;\n",
              "    }\n",
              "\n",
              "    [theme=dark] .colab-df-convert {\n",
              "      background-color: #3B4455;\n",
              "      fill: #D2E3FC;\n",
              "    }\n",
              "\n",
              "    [theme=dark] .colab-df-convert:hover {\n",
              "      background-color: #434B5C;\n",
              "      box-shadow: 0px 1px 3px 1px rgba(0, 0, 0, 0.15);\n",
              "      filter: drop-shadow(0px 1px 2px rgba(0, 0, 0, 0.3));\n",
              "      fill: #FFFFFF;\n",
              "    }\n",
              "  </style>\n",
              "\n",
              "      <script>\n",
              "        const buttonEl =\n",
              "          document.querySelector('#df-c9b2c078-1a43-404d-9a3b-4560cc793b2f button.colab-df-convert');\n",
              "        buttonEl.style.display =\n",
              "          google.colab.kernel.accessAllowed ? 'block' : 'none';\n",
              "\n",
              "        async function convertToInteractive(key) {\n",
              "          const element = document.querySelector('#df-c9b2c078-1a43-404d-9a3b-4560cc793b2f');\n",
              "          const dataTable =\n",
              "            await google.colab.kernel.invokeFunction('convertToInteractive',\n",
              "                                                     [key], {});\n",
              "          if (!dataTable) return;\n",
              "\n",
              "          const docLinkHtml = 'Like what you see? Visit the ' +\n",
              "            '<a target=\"_blank\" href=https://colab.research.google.com/notebooks/data_table.ipynb>data table notebook</a>'\n",
              "            + ' to learn more about interactive tables.';\n",
              "          element.innerHTML = '';\n",
              "          dataTable['output_type'] = 'display_data';\n",
              "          await google.colab.output.renderOutput(dataTable, element);\n",
              "          const docLink = document.createElement('div');\n",
              "          docLink.innerHTML = docLinkHtml;\n",
              "          element.appendChild(docLink);\n",
              "        }\n",
              "      </script>\n",
              "    </div>\n",
              "  </div>\n",
              "  "
            ]
          },
          "metadata": {},
          "execution_count": 11
        }
      ]
    },
    {
      "cell_type": "code",
      "source": [
        "df.tail()"
      ],
      "metadata": {
        "colab": {
          "base_uri": "https://localhost:8080/",
          "height": 320
        },
        "id": "0jzbnfAlSzTM",
        "outputId": "5fc8e580-85bc-4fc2-dab2-3d27f8502167"
      },
      "execution_count": null,
      "outputs": [
        {
          "output_type": "execute_result",
          "data": {
            "text/plain": [
              "                                                 App             Category  \\\n",
              "10836                               Sya9a Maroc - FR               FAMILY   \n",
              "10837               Fr. Mike Schmitz Audio Teachings               FAMILY   \n",
              "10838                         Parkinson Exercices FR              MEDICAL   \n",
              "10839                  The SCP Foundation DB fr nn5n  BOOKS_AND_REFERENCE   \n",
              "10840  iHoroscope - 2018 Daily Horoscope & Astrology            LIFESTYLE   \n",
              "\n",
              "       Rating Reviews                Size     Installs  Type Price  \\\n",
              "10836     4.5      38                 53M       5,000+  Free     0   \n",
              "10837     5.0       4                3.6M         100+  Free     0   \n",
              "10838     NaN       3                9.5M       1,000+  Free     0   \n",
              "10839     4.5     114  Varies with device       1,000+  Free     0   \n",
              "10840     4.5  398307                 19M  10,000,000+  Free     0   \n",
              "\n",
              "      Content Rating             Genres      Last Updated         Current Ver  \\\n",
              "10836       Everyone          Education     July 25, 2017                1.48   \n",
              "10837       Everyone          Education      July 6, 2018                 1.0   \n",
              "10838       Everyone            Medical  January 20, 2017                 1.0   \n",
              "10839     Mature 17+  Books & Reference  January 19, 2015  Varies with device   \n",
              "10840       Everyone          Lifestyle     July 25, 2018  Varies with device   \n",
              "\n",
              "              Android Ver  \n",
              "10836          4.1 and up  \n",
              "10837          4.1 and up  \n",
              "10838          2.2 and up  \n",
              "10839  Varies with device  \n",
              "10840  Varies with device  "
            ],
            "text/html": [
              "\n",
              "  <div id=\"df-7152c107-013b-444e-a554-01cfe90f3084\">\n",
              "    <div class=\"colab-df-container\">\n",
              "      <div>\n",
              "<style scoped>\n",
              "    .dataframe tbody tr th:only-of-type {\n",
              "        vertical-align: middle;\n",
              "    }\n",
              "\n",
              "    .dataframe tbody tr th {\n",
              "        vertical-align: top;\n",
              "    }\n",
              "\n",
              "    .dataframe thead th {\n",
              "        text-align: right;\n",
              "    }\n",
              "</style>\n",
              "<table border=\"1\" class=\"dataframe\">\n",
              "  <thead>\n",
              "    <tr style=\"text-align: right;\">\n",
              "      <th></th>\n",
              "      <th>App</th>\n",
              "      <th>Category</th>\n",
              "      <th>Rating</th>\n",
              "      <th>Reviews</th>\n",
              "      <th>Size</th>\n",
              "      <th>Installs</th>\n",
              "      <th>Type</th>\n",
              "      <th>Price</th>\n",
              "      <th>Content Rating</th>\n",
              "      <th>Genres</th>\n",
              "      <th>Last Updated</th>\n",
              "      <th>Current Ver</th>\n",
              "      <th>Android Ver</th>\n",
              "    </tr>\n",
              "  </thead>\n",
              "  <tbody>\n",
              "    <tr>\n",
              "      <th>10836</th>\n",
              "      <td>Sya9a Maroc - FR</td>\n",
              "      <td>FAMILY</td>\n",
              "      <td>4.5</td>\n",
              "      <td>38</td>\n",
              "      <td>53M</td>\n",
              "      <td>5,000+</td>\n",
              "      <td>Free</td>\n",
              "      <td>0</td>\n",
              "      <td>Everyone</td>\n",
              "      <td>Education</td>\n",
              "      <td>July 25, 2017</td>\n",
              "      <td>1.48</td>\n",
              "      <td>4.1 and up</td>\n",
              "    </tr>\n",
              "    <tr>\n",
              "      <th>10837</th>\n",
              "      <td>Fr. Mike Schmitz Audio Teachings</td>\n",
              "      <td>FAMILY</td>\n",
              "      <td>5.0</td>\n",
              "      <td>4</td>\n",
              "      <td>3.6M</td>\n",
              "      <td>100+</td>\n",
              "      <td>Free</td>\n",
              "      <td>0</td>\n",
              "      <td>Everyone</td>\n",
              "      <td>Education</td>\n",
              "      <td>July 6, 2018</td>\n",
              "      <td>1.0</td>\n",
              "      <td>4.1 and up</td>\n",
              "    </tr>\n",
              "    <tr>\n",
              "      <th>10838</th>\n",
              "      <td>Parkinson Exercices FR</td>\n",
              "      <td>MEDICAL</td>\n",
              "      <td>NaN</td>\n",
              "      <td>3</td>\n",
              "      <td>9.5M</td>\n",
              "      <td>1,000+</td>\n",
              "      <td>Free</td>\n",
              "      <td>0</td>\n",
              "      <td>Everyone</td>\n",
              "      <td>Medical</td>\n",
              "      <td>January 20, 2017</td>\n",
              "      <td>1.0</td>\n",
              "      <td>2.2 and up</td>\n",
              "    </tr>\n",
              "    <tr>\n",
              "      <th>10839</th>\n",
              "      <td>The SCP Foundation DB fr nn5n</td>\n",
              "      <td>BOOKS_AND_REFERENCE</td>\n",
              "      <td>4.5</td>\n",
              "      <td>114</td>\n",
              "      <td>Varies with device</td>\n",
              "      <td>1,000+</td>\n",
              "      <td>Free</td>\n",
              "      <td>0</td>\n",
              "      <td>Mature 17+</td>\n",
              "      <td>Books &amp; Reference</td>\n",
              "      <td>January 19, 2015</td>\n",
              "      <td>Varies with device</td>\n",
              "      <td>Varies with device</td>\n",
              "    </tr>\n",
              "    <tr>\n",
              "      <th>10840</th>\n",
              "      <td>iHoroscope - 2018 Daily Horoscope &amp; Astrology</td>\n",
              "      <td>LIFESTYLE</td>\n",
              "      <td>4.5</td>\n",
              "      <td>398307</td>\n",
              "      <td>19M</td>\n",
              "      <td>10,000,000+</td>\n",
              "      <td>Free</td>\n",
              "      <td>0</td>\n",
              "      <td>Everyone</td>\n",
              "      <td>Lifestyle</td>\n",
              "      <td>July 25, 2018</td>\n",
              "      <td>Varies with device</td>\n",
              "      <td>Varies with device</td>\n",
              "    </tr>\n",
              "  </tbody>\n",
              "</table>\n",
              "</div>\n",
              "      <button class=\"colab-df-convert\" onclick=\"convertToInteractive('df-7152c107-013b-444e-a554-01cfe90f3084')\"\n",
              "              title=\"Convert this dataframe to an interactive table.\"\n",
              "              style=\"display:none;\">\n",
              "        \n",
              "  <svg xmlns=\"http://www.w3.org/2000/svg\" height=\"24px\"viewBox=\"0 0 24 24\"\n",
              "       width=\"24px\">\n",
              "    <path d=\"M0 0h24v24H0V0z\" fill=\"none\"/>\n",
              "    <path d=\"M18.56 5.44l.94 2.06.94-2.06 2.06-.94-2.06-.94-.94-2.06-.94 2.06-2.06.94zm-11 1L8.5 8.5l.94-2.06 2.06-.94-2.06-.94L8.5 2.5l-.94 2.06-2.06.94zm10 10l.94 2.06.94-2.06 2.06-.94-2.06-.94-.94-2.06-.94 2.06-2.06.94z\"/><path d=\"M17.41 7.96l-1.37-1.37c-.4-.4-.92-.59-1.43-.59-.52 0-1.04.2-1.43.59L10.3 9.45l-7.72 7.72c-.78.78-.78 2.05 0 2.83L4 21.41c.39.39.9.59 1.41.59.51 0 1.02-.2 1.41-.59l7.78-7.78 2.81-2.81c.8-.78.8-2.07 0-2.86zM5.41 20L4 18.59l7.72-7.72 1.47 1.35L5.41 20z\"/>\n",
              "  </svg>\n",
              "      </button>\n",
              "      \n",
              "  <style>\n",
              "    .colab-df-container {\n",
              "      display:flex;\n",
              "      flex-wrap:wrap;\n",
              "      gap: 12px;\n",
              "    }\n",
              "\n",
              "    .colab-df-convert {\n",
              "      background-color: #E8F0FE;\n",
              "      border: none;\n",
              "      border-radius: 50%;\n",
              "      cursor: pointer;\n",
              "      display: none;\n",
              "      fill: #1967D2;\n",
              "      height: 32px;\n",
              "      padding: 0 0 0 0;\n",
              "      width: 32px;\n",
              "    }\n",
              "\n",
              "    .colab-df-convert:hover {\n",
              "      background-color: #E2EBFA;\n",
              "      box-shadow: 0px 1px 2px rgba(60, 64, 67, 0.3), 0px 1px 3px 1px rgba(60, 64, 67, 0.15);\n",
              "      fill: #174EA6;\n",
              "    }\n",
              "\n",
              "    [theme=dark] .colab-df-convert {\n",
              "      background-color: #3B4455;\n",
              "      fill: #D2E3FC;\n",
              "    }\n",
              "\n",
              "    [theme=dark] .colab-df-convert:hover {\n",
              "      background-color: #434B5C;\n",
              "      box-shadow: 0px 1px 3px 1px rgba(0, 0, 0, 0.15);\n",
              "      filter: drop-shadow(0px 1px 2px rgba(0, 0, 0, 0.3));\n",
              "      fill: #FFFFFF;\n",
              "    }\n",
              "  </style>\n",
              "\n",
              "      <script>\n",
              "        const buttonEl =\n",
              "          document.querySelector('#df-7152c107-013b-444e-a554-01cfe90f3084 button.colab-df-convert');\n",
              "        buttonEl.style.display =\n",
              "          google.colab.kernel.accessAllowed ? 'block' : 'none';\n",
              "\n",
              "        async function convertToInteractive(key) {\n",
              "          const element = document.querySelector('#df-7152c107-013b-444e-a554-01cfe90f3084');\n",
              "          const dataTable =\n",
              "            await google.colab.kernel.invokeFunction('convertToInteractive',\n",
              "                                                     [key], {});\n",
              "          if (!dataTable) return;\n",
              "\n",
              "          const docLinkHtml = 'Like what you see? Visit the ' +\n",
              "            '<a target=\"_blank\" href=https://colab.research.google.com/notebooks/data_table.ipynb>data table notebook</a>'\n",
              "            + ' to learn more about interactive tables.';\n",
              "          element.innerHTML = '';\n",
              "          dataTable['output_type'] = 'display_data';\n",
              "          await google.colab.output.renderOutput(dataTable, element);\n",
              "          const docLink = document.createElement('div');\n",
              "          docLink.innerHTML = docLinkHtml;\n",
              "          element.appendChild(docLink);\n",
              "        }\n",
              "      </script>\n",
              "    </div>\n",
              "  </div>\n",
              "  "
            ]
          },
          "metadata": {},
          "execution_count": 12
        }
      ]
    },
    {
      "cell_type": "markdown",
      "source": [
        "#**Description of data 2**#"
      ],
      "metadata": {
        "id": "gVWnT4GjS7J9"
      }
    },
    {
      "cell_type": "code",
      "source": [
        "df2.info()"
      ],
      "metadata": {
        "colab": {
          "base_uri": "https://localhost:8080/"
        },
        "id": "l4prtFfnTBnU",
        "outputId": "1d0d275a-8a01-409d-c5d1-03d2e428a53e"
      },
      "execution_count": null,
      "outputs": [
        {
          "output_type": "stream",
          "name": "stdout",
          "text": [
            "<class 'pandas.core.frame.DataFrame'>\n",
            "RangeIndex: 64295 entries, 0 to 64294\n",
            "Data columns (total 5 columns):\n",
            " #   Column                  Non-Null Count  Dtype  \n",
            "---  ------                  --------------  -----  \n",
            " 0   App                     64295 non-null  object \n",
            " 1   Translated_Review       37427 non-null  object \n",
            " 2   Sentiment               37432 non-null  object \n",
            " 3   Sentiment_Polarity      37432 non-null  float64\n",
            " 4   Sentiment_Subjectivity  37432 non-null  float64\n",
            "dtypes: float64(2), object(3)\n",
            "memory usage: 2.5+ MB\n"
          ]
        }
      ]
    },
    {
      "cell_type": "code",
      "source": [
        "df2.describe()"
      ],
      "metadata": {
        "colab": {
          "base_uri": "https://localhost:8080/",
          "height": 300
        },
        "id": "QM3tnil_THr7",
        "outputId": "23b29fdf-2497-4788-a902-92582f17170f"
      },
      "execution_count": null,
      "outputs": [
        {
          "output_type": "execute_result",
          "data": {
            "text/plain": [
              "       Sentiment_Polarity  Sentiment_Subjectivity\n",
              "count        37432.000000            37432.000000\n",
              "mean             0.182146                0.492704\n",
              "std              0.351301                0.259949\n",
              "min             -1.000000                0.000000\n",
              "25%              0.000000                0.357143\n",
              "50%              0.150000                0.514286\n",
              "75%              0.400000                0.650000\n",
              "max              1.000000                1.000000"
            ],
            "text/html": [
              "\n",
              "  <div id=\"df-524b1091-c579-4805-a8a9-cf149092a525\">\n",
              "    <div class=\"colab-df-container\">\n",
              "      <div>\n",
              "<style scoped>\n",
              "    .dataframe tbody tr th:only-of-type {\n",
              "        vertical-align: middle;\n",
              "    }\n",
              "\n",
              "    .dataframe tbody tr th {\n",
              "        vertical-align: top;\n",
              "    }\n",
              "\n",
              "    .dataframe thead th {\n",
              "        text-align: right;\n",
              "    }\n",
              "</style>\n",
              "<table border=\"1\" class=\"dataframe\">\n",
              "  <thead>\n",
              "    <tr style=\"text-align: right;\">\n",
              "      <th></th>\n",
              "      <th>Sentiment_Polarity</th>\n",
              "      <th>Sentiment_Subjectivity</th>\n",
              "    </tr>\n",
              "  </thead>\n",
              "  <tbody>\n",
              "    <tr>\n",
              "      <th>count</th>\n",
              "      <td>37432.000000</td>\n",
              "      <td>37432.000000</td>\n",
              "    </tr>\n",
              "    <tr>\n",
              "      <th>mean</th>\n",
              "      <td>0.182146</td>\n",
              "      <td>0.492704</td>\n",
              "    </tr>\n",
              "    <tr>\n",
              "      <th>std</th>\n",
              "      <td>0.351301</td>\n",
              "      <td>0.259949</td>\n",
              "    </tr>\n",
              "    <tr>\n",
              "      <th>min</th>\n",
              "      <td>-1.000000</td>\n",
              "      <td>0.000000</td>\n",
              "    </tr>\n",
              "    <tr>\n",
              "      <th>25%</th>\n",
              "      <td>0.000000</td>\n",
              "      <td>0.357143</td>\n",
              "    </tr>\n",
              "    <tr>\n",
              "      <th>50%</th>\n",
              "      <td>0.150000</td>\n",
              "      <td>0.514286</td>\n",
              "    </tr>\n",
              "    <tr>\n",
              "      <th>75%</th>\n",
              "      <td>0.400000</td>\n",
              "      <td>0.650000</td>\n",
              "    </tr>\n",
              "    <tr>\n",
              "      <th>max</th>\n",
              "      <td>1.000000</td>\n",
              "      <td>1.000000</td>\n",
              "    </tr>\n",
              "  </tbody>\n",
              "</table>\n",
              "</div>\n",
              "      <button class=\"colab-df-convert\" onclick=\"convertToInteractive('df-524b1091-c579-4805-a8a9-cf149092a525')\"\n",
              "              title=\"Convert this dataframe to an interactive table.\"\n",
              "              style=\"display:none;\">\n",
              "        \n",
              "  <svg xmlns=\"http://www.w3.org/2000/svg\" height=\"24px\"viewBox=\"0 0 24 24\"\n",
              "       width=\"24px\">\n",
              "    <path d=\"M0 0h24v24H0V0z\" fill=\"none\"/>\n",
              "    <path d=\"M18.56 5.44l.94 2.06.94-2.06 2.06-.94-2.06-.94-.94-2.06-.94 2.06-2.06.94zm-11 1L8.5 8.5l.94-2.06 2.06-.94-2.06-.94L8.5 2.5l-.94 2.06-2.06.94zm10 10l.94 2.06.94-2.06 2.06-.94-2.06-.94-.94-2.06-.94 2.06-2.06.94z\"/><path d=\"M17.41 7.96l-1.37-1.37c-.4-.4-.92-.59-1.43-.59-.52 0-1.04.2-1.43.59L10.3 9.45l-7.72 7.72c-.78.78-.78 2.05 0 2.83L4 21.41c.39.39.9.59 1.41.59.51 0 1.02-.2 1.41-.59l7.78-7.78 2.81-2.81c.8-.78.8-2.07 0-2.86zM5.41 20L4 18.59l7.72-7.72 1.47 1.35L5.41 20z\"/>\n",
              "  </svg>\n",
              "      </button>\n",
              "      \n",
              "  <style>\n",
              "    .colab-df-container {\n",
              "      display:flex;\n",
              "      flex-wrap:wrap;\n",
              "      gap: 12px;\n",
              "    }\n",
              "\n",
              "    .colab-df-convert {\n",
              "      background-color: #E8F0FE;\n",
              "      border: none;\n",
              "      border-radius: 50%;\n",
              "      cursor: pointer;\n",
              "      display: none;\n",
              "      fill: #1967D2;\n",
              "      height: 32px;\n",
              "      padding: 0 0 0 0;\n",
              "      width: 32px;\n",
              "    }\n",
              "\n",
              "    .colab-df-convert:hover {\n",
              "      background-color: #E2EBFA;\n",
              "      box-shadow: 0px 1px 2px rgba(60, 64, 67, 0.3), 0px 1px 3px 1px rgba(60, 64, 67, 0.15);\n",
              "      fill: #174EA6;\n",
              "    }\n",
              "\n",
              "    [theme=dark] .colab-df-convert {\n",
              "      background-color: #3B4455;\n",
              "      fill: #D2E3FC;\n",
              "    }\n",
              "\n",
              "    [theme=dark] .colab-df-convert:hover {\n",
              "      background-color: #434B5C;\n",
              "      box-shadow: 0px 1px 3px 1px rgba(0, 0, 0, 0.15);\n",
              "      filter: drop-shadow(0px 1px 2px rgba(0, 0, 0, 0.3));\n",
              "      fill: #FFFFFF;\n",
              "    }\n",
              "  </style>\n",
              "\n",
              "      <script>\n",
              "        const buttonEl =\n",
              "          document.querySelector('#df-524b1091-c579-4805-a8a9-cf149092a525 button.colab-df-convert');\n",
              "        buttonEl.style.display =\n",
              "          google.colab.kernel.accessAllowed ? 'block' : 'none';\n",
              "\n",
              "        async function convertToInteractive(key) {\n",
              "          const element = document.querySelector('#df-524b1091-c579-4805-a8a9-cf149092a525');\n",
              "          const dataTable =\n",
              "            await google.colab.kernel.invokeFunction('convertToInteractive',\n",
              "                                                     [key], {});\n",
              "          if (!dataTable) return;\n",
              "\n",
              "          const docLinkHtml = 'Like what you see? Visit the ' +\n",
              "            '<a target=\"_blank\" href=https://colab.research.google.com/notebooks/data_table.ipynb>data table notebook</a>'\n",
              "            + ' to learn more about interactive tables.';\n",
              "          element.innerHTML = '';\n",
              "          dataTable['output_type'] = 'display_data';\n",
              "          await google.colab.output.renderOutput(dataTable, element);\n",
              "          const docLink = document.createElement('div');\n",
              "          docLink.innerHTML = docLinkHtml;\n",
              "          element.appendChild(docLink);\n",
              "        }\n",
              "      </script>\n",
              "    </div>\n",
              "  </div>\n",
              "  "
            ]
          },
          "metadata": {},
          "execution_count": 14
        }
      ]
    },
    {
      "cell_type": "code",
      "source": [
        "df2.head()"
      ],
      "metadata": {
        "colab": {
          "base_uri": "https://localhost:8080/",
          "height": 206
        },
        "id": "FnE7y1IaTHxX",
        "outputId": "66e46ec4-238a-4304-bbaa-1a38da4b82df"
      },
      "execution_count": null,
      "outputs": [
        {
          "output_type": "execute_result",
          "data": {
            "text/plain": [
              "                     App                                  Translated_Review  \\\n",
              "0  10 Best Foods for You  I like eat delicious food. That's I'm cooking ...   \n",
              "1  10 Best Foods for You    This help eating healthy exercise regular basis   \n",
              "2  10 Best Foods for You                                                NaN   \n",
              "3  10 Best Foods for You         Works great especially going grocery store   \n",
              "4  10 Best Foods for You                                       Best idea us   \n",
              "\n",
              "  Sentiment  Sentiment_Polarity  Sentiment_Subjectivity  \n",
              "0  Positive                1.00                0.533333  \n",
              "1  Positive                0.25                0.288462  \n",
              "2       NaN                 NaN                     NaN  \n",
              "3  Positive                0.40                0.875000  \n",
              "4  Positive                1.00                0.300000  "
            ],
            "text/html": [
              "\n",
              "  <div id=\"df-41d0e071-0a7b-4a9d-a499-9ee542775020\">\n",
              "    <div class=\"colab-df-container\">\n",
              "      <div>\n",
              "<style scoped>\n",
              "    .dataframe tbody tr th:only-of-type {\n",
              "        vertical-align: middle;\n",
              "    }\n",
              "\n",
              "    .dataframe tbody tr th {\n",
              "        vertical-align: top;\n",
              "    }\n",
              "\n",
              "    .dataframe thead th {\n",
              "        text-align: right;\n",
              "    }\n",
              "</style>\n",
              "<table border=\"1\" class=\"dataframe\">\n",
              "  <thead>\n",
              "    <tr style=\"text-align: right;\">\n",
              "      <th></th>\n",
              "      <th>App</th>\n",
              "      <th>Translated_Review</th>\n",
              "      <th>Sentiment</th>\n",
              "      <th>Sentiment_Polarity</th>\n",
              "      <th>Sentiment_Subjectivity</th>\n",
              "    </tr>\n",
              "  </thead>\n",
              "  <tbody>\n",
              "    <tr>\n",
              "      <th>0</th>\n",
              "      <td>10 Best Foods for You</td>\n",
              "      <td>I like eat delicious food. That's I'm cooking ...</td>\n",
              "      <td>Positive</td>\n",
              "      <td>1.00</td>\n",
              "      <td>0.533333</td>\n",
              "    </tr>\n",
              "    <tr>\n",
              "      <th>1</th>\n",
              "      <td>10 Best Foods for You</td>\n",
              "      <td>This help eating healthy exercise regular basis</td>\n",
              "      <td>Positive</td>\n",
              "      <td>0.25</td>\n",
              "      <td>0.288462</td>\n",
              "    </tr>\n",
              "    <tr>\n",
              "      <th>2</th>\n",
              "      <td>10 Best Foods for You</td>\n",
              "      <td>NaN</td>\n",
              "      <td>NaN</td>\n",
              "      <td>NaN</td>\n",
              "      <td>NaN</td>\n",
              "    </tr>\n",
              "    <tr>\n",
              "      <th>3</th>\n",
              "      <td>10 Best Foods for You</td>\n",
              "      <td>Works great especially going grocery store</td>\n",
              "      <td>Positive</td>\n",
              "      <td>0.40</td>\n",
              "      <td>0.875000</td>\n",
              "    </tr>\n",
              "    <tr>\n",
              "      <th>4</th>\n",
              "      <td>10 Best Foods for You</td>\n",
              "      <td>Best idea us</td>\n",
              "      <td>Positive</td>\n",
              "      <td>1.00</td>\n",
              "      <td>0.300000</td>\n",
              "    </tr>\n",
              "  </tbody>\n",
              "</table>\n",
              "</div>\n",
              "      <button class=\"colab-df-convert\" onclick=\"convertToInteractive('df-41d0e071-0a7b-4a9d-a499-9ee542775020')\"\n",
              "              title=\"Convert this dataframe to an interactive table.\"\n",
              "              style=\"display:none;\">\n",
              "        \n",
              "  <svg xmlns=\"http://www.w3.org/2000/svg\" height=\"24px\"viewBox=\"0 0 24 24\"\n",
              "       width=\"24px\">\n",
              "    <path d=\"M0 0h24v24H0V0z\" fill=\"none\"/>\n",
              "    <path d=\"M18.56 5.44l.94 2.06.94-2.06 2.06-.94-2.06-.94-.94-2.06-.94 2.06-2.06.94zm-11 1L8.5 8.5l.94-2.06 2.06-.94-2.06-.94L8.5 2.5l-.94 2.06-2.06.94zm10 10l.94 2.06.94-2.06 2.06-.94-2.06-.94-.94-2.06-.94 2.06-2.06.94z\"/><path d=\"M17.41 7.96l-1.37-1.37c-.4-.4-.92-.59-1.43-.59-.52 0-1.04.2-1.43.59L10.3 9.45l-7.72 7.72c-.78.78-.78 2.05 0 2.83L4 21.41c.39.39.9.59 1.41.59.51 0 1.02-.2 1.41-.59l7.78-7.78 2.81-2.81c.8-.78.8-2.07 0-2.86zM5.41 20L4 18.59l7.72-7.72 1.47 1.35L5.41 20z\"/>\n",
              "  </svg>\n",
              "      </button>\n",
              "      \n",
              "  <style>\n",
              "    .colab-df-container {\n",
              "      display:flex;\n",
              "      flex-wrap:wrap;\n",
              "      gap: 12px;\n",
              "    }\n",
              "\n",
              "    .colab-df-convert {\n",
              "      background-color: #E8F0FE;\n",
              "      border: none;\n",
              "      border-radius: 50%;\n",
              "      cursor: pointer;\n",
              "      display: none;\n",
              "      fill: #1967D2;\n",
              "      height: 32px;\n",
              "      padding: 0 0 0 0;\n",
              "      width: 32px;\n",
              "    }\n",
              "\n",
              "    .colab-df-convert:hover {\n",
              "      background-color: #E2EBFA;\n",
              "      box-shadow: 0px 1px 2px rgba(60, 64, 67, 0.3), 0px 1px 3px 1px rgba(60, 64, 67, 0.15);\n",
              "      fill: #174EA6;\n",
              "    }\n",
              "\n",
              "    [theme=dark] .colab-df-convert {\n",
              "      background-color: #3B4455;\n",
              "      fill: #D2E3FC;\n",
              "    }\n",
              "\n",
              "    [theme=dark] .colab-df-convert:hover {\n",
              "      background-color: #434B5C;\n",
              "      box-shadow: 0px 1px 3px 1px rgba(0, 0, 0, 0.15);\n",
              "      filter: drop-shadow(0px 1px 2px rgba(0, 0, 0, 0.3));\n",
              "      fill: #FFFFFF;\n",
              "    }\n",
              "  </style>\n",
              "\n",
              "      <script>\n",
              "        const buttonEl =\n",
              "          document.querySelector('#df-41d0e071-0a7b-4a9d-a499-9ee542775020 button.colab-df-convert');\n",
              "        buttonEl.style.display =\n",
              "          google.colab.kernel.accessAllowed ? 'block' : 'none';\n",
              "\n",
              "        async function convertToInteractive(key) {\n",
              "          const element = document.querySelector('#df-41d0e071-0a7b-4a9d-a499-9ee542775020');\n",
              "          const dataTable =\n",
              "            await google.colab.kernel.invokeFunction('convertToInteractive',\n",
              "                                                     [key], {});\n",
              "          if (!dataTable) return;\n",
              "\n",
              "          const docLinkHtml = 'Like what you see? Visit the ' +\n",
              "            '<a target=\"_blank\" href=https://colab.research.google.com/notebooks/data_table.ipynb>data table notebook</a>'\n",
              "            + ' to learn more about interactive tables.';\n",
              "          element.innerHTML = '';\n",
              "          dataTable['output_type'] = 'display_data';\n",
              "          await google.colab.output.renderOutput(dataTable, element);\n",
              "          const docLink = document.createElement('div');\n",
              "          docLink.innerHTML = docLinkHtml;\n",
              "          element.appendChild(docLink);\n",
              "        }\n",
              "      </script>\n",
              "    </div>\n",
              "  </div>\n",
              "  "
            ]
          },
          "metadata": {},
          "execution_count": 15
        }
      ]
    },
    {
      "cell_type": "code",
      "source": [
        "df2.tail()"
      ],
      "metadata": {
        "colab": {
          "base_uri": "https://localhost:8080/",
          "height": 206
        },
        "id": "ubnLJlYRTOEl",
        "outputId": "45e36017-671a-4a16-dee8-7ed692dc1095"
      },
      "execution_count": null,
      "outputs": [
        {
          "output_type": "execute_result",
          "data": {
            "text/plain": [
              "                               App Translated_Review Sentiment  \\\n",
              "64290  Houzz Interior Design Ideas               NaN       NaN   \n",
              "64291  Houzz Interior Design Ideas               NaN       NaN   \n",
              "64292  Houzz Interior Design Ideas               NaN       NaN   \n",
              "64293  Houzz Interior Design Ideas               NaN       NaN   \n",
              "64294  Houzz Interior Design Ideas               NaN       NaN   \n",
              "\n",
              "       Sentiment_Polarity  Sentiment_Subjectivity  \n",
              "64290                 NaN                     NaN  \n",
              "64291                 NaN                     NaN  \n",
              "64292                 NaN                     NaN  \n",
              "64293                 NaN                     NaN  \n",
              "64294                 NaN                     NaN  "
            ],
            "text/html": [
              "\n",
              "  <div id=\"df-0718a659-742f-41b1-97fd-517e500301da\">\n",
              "    <div class=\"colab-df-container\">\n",
              "      <div>\n",
              "<style scoped>\n",
              "    .dataframe tbody tr th:only-of-type {\n",
              "        vertical-align: middle;\n",
              "    }\n",
              "\n",
              "    .dataframe tbody tr th {\n",
              "        vertical-align: top;\n",
              "    }\n",
              "\n",
              "    .dataframe thead th {\n",
              "        text-align: right;\n",
              "    }\n",
              "</style>\n",
              "<table border=\"1\" class=\"dataframe\">\n",
              "  <thead>\n",
              "    <tr style=\"text-align: right;\">\n",
              "      <th></th>\n",
              "      <th>App</th>\n",
              "      <th>Translated_Review</th>\n",
              "      <th>Sentiment</th>\n",
              "      <th>Sentiment_Polarity</th>\n",
              "      <th>Sentiment_Subjectivity</th>\n",
              "    </tr>\n",
              "  </thead>\n",
              "  <tbody>\n",
              "    <tr>\n",
              "      <th>64290</th>\n",
              "      <td>Houzz Interior Design Ideas</td>\n",
              "      <td>NaN</td>\n",
              "      <td>NaN</td>\n",
              "      <td>NaN</td>\n",
              "      <td>NaN</td>\n",
              "    </tr>\n",
              "    <tr>\n",
              "      <th>64291</th>\n",
              "      <td>Houzz Interior Design Ideas</td>\n",
              "      <td>NaN</td>\n",
              "      <td>NaN</td>\n",
              "      <td>NaN</td>\n",
              "      <td>NaN</td>\n",
              "    </tr>\n",
              "    <tr>\n",
              "      <th>64292</th>\n",
              "      <td>Houzz Interior Design Ideas</td>\n",
              "      <td>NaN</td>\n",
              "      <td>NaN</td>\n",
              "      <td>NaN</td>\n",
              "      <td>NaN</td>\n",
              "    </tr>\n",
              "    <tr>\n",
              "      <th>64293</th>\n",
              "      <td>Houzz Interior Design Ideas</td>\n",
              "      <td>NaN</td>\n",
              "      <td>NaN</td>\n",
              "      <td>NaN</td>\n",
              "      <td>NaN</td>\n",
              "    </tr>\n",
              "    <tr>\n",
              "      <th>64294</th>\n",
              "      <td>Houzz Interior Design Ideas</td>\n",
              "      <td>NaN</td>\n",
              "      <td>NaN</td>\n",
              "      <td>NaN</td>\n",
              "      <td>NaN</td>\n",
              "    </tr>\n",
              "  </tbody>\n",
              "</table>\n",
              "</div>\n",
              "      <button class=\"colab-df-convert\" onclick=\"convertToInteractive('df-0718a659-742f-41b1-97fd-517e500301da')\"\n",
              "              title=\"Convert this dataframe to an interactive table.\"\n",
              "              style=\"display:none;\">\n",
              "        \n",
              "  <svg xmlns=\"http://www.w3.org/2000/svg\" height=\"24px\"viewBox=\"0 0 24 24\"\n",
              "       width=\"24px\">\n",
              "    <path d=\"M0 0h24v24H0V0z\" fill=\"none\"/>\n",
              "    <path d=\"M18.56 5.44l.94 2.06.94-2.06 2.06-.94-2.06-.94-.94-2.06-.94 2.06-2.06.94zm-11 1L8.5 8.5l.94-2.06 2.06-.94-2.06-.94L8.5 2.5l-.94 2.06-2.06.94zm10 10l.94 2.06.94-2.06 2.06-.94-2.06-.94-.94-2.06-.94 2.06-2.06.94z\"/><path d=\"M17.41 7.96l-1.37-1.37c-.4-.4-.92-.59-1.43-.59-.52 0-1.04.2-1.43.59L10.3 9.45l-7.72 7.72c-.78.78-.78 2.05 0 2.83L4 21.41c.39.39.9.59 1.41.59.51 0 1.02-.2 1.41-.59l7.78-7.78 2.81-2.81c.8-.78.8-2.07 0-2.86zM5.41 20L4 18.59l7.72-7.72 1.47 1.35L5.41 20z\"/>\n",
              "  </svg>\n",
              "      </button>\n",
              "      \n",
              "  <style>\n",
              "    .colab-df-container {\n",
              "      display:flex;\n",
              "      flex-wrap:wrap;\n",
              "      gap: 12px;\n",
              "    }\n",
              "\n",
              "    .colab-df-convert {\n",
              "      background-color: #E8F0FE;\n",
              "      border: none;\n",
              "      border-radius: 50%;\n",
              "      cursor: pointer;\n",
              "      display: none;\n",
              "      fill: #1967D2;\n",
              "      height: 32px;\n",
              "      padding: 0 0 0 0;\n",
              "      width: 32px;\n",
              "    }\n",
              "\n",
              "    .colab-df-convert:hover {\n",
              "      background-color: #E2EBFA;\n",
              "      box-shadow: 0px 1px 2px rgba(60, 64, 67, 0.3), 0px 1px 3px 1px rgba(60, 64, 67, 0.15);\n",
              "      fill: #174EA6;\n",
              "    }\n",
              "\n",
              "    [theme=dark] .colab-df-convert {\n",
              "      background-color: #3B4455;\n",
              "      fill: #D2E3FC;\n",
              "    }\n",
              "\n",
              "    [theme=dark] .colab-df-convert:hover {\n",
              "      background-color: #434B5C;\n",
              "      box-shadow: 0px 1px 3px 1px rgba(0, 0, 0, 0.15);\n",
              "      filter: drop-shadow(0px 1px 2px rgba(0, 0, 0, 0.3));\n",
              "      fill: #FFFFFF;\n",
              "    }\n",
              "  </style>\n",
              "\n",
              "      <script>\n",
              "        const buttonEl =\n",
              "          document.querySelector('#df-0718a659-742f-41b1-97fd-517e500301da button.colab-df-convert');\n",
              "        buttonEl.style.display =\n",
              "          google.colab.kernel.accessAllowed ? 'block' : 'none';\n",
              "\n",
              "        async function convertToInteractive(key) {\n",
              "          const element = document.querySelector('#df-0718a659-742f-41b1-97fd-517e500301da');\n",
              "          const dataTable =\n",
              "            await google.colab.kernel.invokeFunction('convertToInteractive',\n",
              "                                                     [key], {});\n",
              "          if (!dataTable) return;\n",
              "\n",
              "          const docLinkHtml = 'Like what you see? Visit the ' +\n",
              "            '<a target=\"_blank\" href=https://colab.research.google.com/notebooks/data_table.ipynb>data table notebook</a>'\n",
              "            + ' to learn more about interactive tables.';\n",
              "          element.innerHTML = '';\n",
              "          dataTable['output_type'] = 'display_data';\n",
              "          await google.colab.output.renderOutput(dataTable, element);\n",
              "          const docLink = document.createElement('div');\n",
              "          docLink.innerHTML = docLinkHtml;\n",
              "          element.appendChild(docLink);\n",
              "        }\n",
              "      </script>\n",
              "    </div>\n",
              "  </div>\n",
              "  "
            ]
          },
          "metadata": {},
          "execution_count": 16
        }
      ]
    },
    {
      "cell_type": "markdown",
      "source": [
        "#**Cleaning the Data Frame 1**#\n",
        "**CONVERT TO NUMERAL DATA**\n",
        "\n",
        "\n",
        "\n"
      ],
      "metadata": {
        "id": "PKEdbxmAToiy"
      }
    },
    {
      "cell_type": "code",
      "source": [
        "df['Reviews'].unique()"
      ],
      "metadata": {
        "colab": {
          "base_uri": "https://localhost:8080/"
        },
        "id": "0hz2IapIT3Vj",
        "outputId": "029a6a27-6e3b-4e4b-c88b-ff2e448134e0"
      },
      "execution_count": null,
      "outputs": [
        {
          "output_type": "execute_result",
          "data": {
            "text/plain": [
              "array(['159', '967', '87510', ..., '603', '1195', '398307'], dtype=object)"
            ]
          },
          "metadata": {},
          "execution_count": 17
        }
      ]
    },
    {
      "cell_type": "code",
      "source": [
        "df['Reviews'] = pd.to_numeric(df['Reviews'],errors='coerce')"
      ],
      "metadata": {
        "id": "ro18tcZnT3fD"
      },
      "execution_count": null,
      "outputs": []
    },
    {
      "cell_type": "markdown",
      "source": [
        "errors=’coerce’. It will replace all non-numeric values with NaN."
      ],
      "metadata": {
        "id": "Q1NVaVBkVOaT"
      }
    },
    {
      "cell_type": "markdown",
      "source": [
        "**Fix the Size**"
      ],
      "metadata": {
        "id": "2i_em4xEVawz"
      }
    },
    {
      "cell_type": "code",
      "source": [
        "df['Size'].unique()"
      ],
      "metadata": {
        "colab": {
          "base_uri": "https://localhost:8080/"
        },
        "id": "WnsBh1GfVXxc",
        "outputId": "984bd42e-012c-4baf-ab1a-1e5d9d809202"
      },
      "execution_count": null,
      "outputs": [
        {
          "output_type": "execute_result",
          "data": {
            "text/plain": [
              "array(['19M', '14M', '8.7M', '25M', '2.8M', '5.6M', '29M', '33M', '3.1M',\n",
              "       '28M', '12M', '20M', '21M', '37M', '2.7M', '5.5M', '17M', '39M',\n",
              "       '31M', '4.2M', '7.0M', '23M', '6.0M', '6.1M', '4.6M', '9.2M',\n",
              "       '5.2M', '11M', '24M', 'Varies with device', '9.4M', '15M', '10M',\n",
              "       '1.2M', '26M', '8.0M', '7.9M', '56M', '57M', '35M', '54M', '201k',\n",
              "       '3.6M', '5.7M', '8.6M', '2.4M', '27M', '2.5M', '16M', '3.4M',\n",
              "       '8.9M', '3.9M', '2.9M', '38M', '32M', '5.4M', '18M', '1.1M',\n",
              "       '2.2M', '4.5M', '9.8M', '52M', '9.0M', '6.7M', '30M', '2.6M',\n",
              "       '7.1M', '3.7M', '22M', '7.4M', '6.4M', '3.2M', '8.2M', '9.9M',\n",
              "       '4.9M', '9.5M', '5.0M', '5.9M', '13M', '73M', '6.8M', '3.5M',\n",
              "       '4.0M', '2.3M', '7.2M', '2.1M', '42M', '7.3M', '9.1M', '55M',\n",
              "       '23k', '6.5M', '1.5M', '7.5M', '51M', '41M', '48M', '8.5M', '46M',\n",
              "       '8.3M', '4.3M', '4.7M', '3.3M', '40M', '7.8M', '8.8M', '6.6M',\n",
              "       '5.1M', '61M', '66M', '79k', '8.4M', '118k', '44M', '695k', '1.6M',\n",
              "       '6.2M', '18k', '53M', '1.4M', '3.0M', '5.8M', '3.8M', '9.6M',\n",
              "       '45M', '63M', '49M', '77M', '4.4M', '4.8M', '70M', '6.9M', '9.3M',\n",
              "       '10.0M', '8.1M', '36M', '84M', '97M', '2.0M', '1.9M', '1.8M',\n",
              "       '5.3M', '47M', '556k', '526k', '76M', '7.6M', '59M', '9.7M', '78M',\n",
              "       '72M', '43M', '7.7M', '6.3M', '334k', '34M', '93M', '65M', '79M',\n",
              "       '100M', '58M', '50M', '68M', '64M', '67M', '60M', '94M', '232k',\n",
              "       '99M', '624k', '95M', '8.5k', '41k', '292k', '11k', '80M', '1.7M',\n",
              "       '74M', '62M', '69M', '75M', '98M', '85M', '82M', '96M', '87M',\n",
              "       '71M', '86M', '91M', '81M', '92M', '83M', '88M', '704k', '862k',\n",
              "       '899k', '378k', '266k', '375k', '1.3M', '975k', '980k', '4.1M',\n",
              "       '89M', '696k', '544k', '525k', '920k', '779k', '853k', '720k',\n",
              "       '713k', '772k', '318k', '58k', '241k', '196k', '857k', '51k',\n",
              "       '953k', '865k', '251k', '930k', '540k', '313k', '746k', '203k',\n",
              "       '26k', '314k', '239k', '371k', '220k', '730k', '756k', '91k',\n",
              "       '293k', '17k', '74k', '14k', '317k', '78k', '924k', '902k', '818k',\n",
              "       '81k', '939k', '169k', '45k', '475k', '965k', '90M', '545k', '61k',\n",
              "       '283k', '655k', '714k', '93k', '872k', '121k', '322k', '1.0M',\n",
              "       '976k', '172k', '238k', '549k', '206k', '954k', '444k', '717k',\n",
              "       '210k', '609k', '308k', '705k', '306k', '904k', '473k', '175k',\n",
              "       '350k', '383k', '454k', '421k', '70k', '812k', '442k', '842k',\n",
              "       '417k', '412k', '459k', '478k', '335k', '782k', '721k', '430k',\n",
              "       '429k', '192k', '200k', '460k', '728k', '496k', '816k', '414k',\n",
              "       '506k', '887k', '613k', '243k', '569k', '778k', '683k', '592k',\n",
              "       '319k', '186k', '840k', '647k', '191k', '373k', '437k', '598k',\n",
              "       '716k', '585k', '982k', '222k', '219k', '55k', '948k', '323k',\n",
              "       '691k', '511k', '951k', '963k', '25k', '554k', '351k', '27k',\n",
              "       '82k', '208k', '913k', '514k', '551k', '29k', '103k', '898k',\n",
              "       '743k', '116k', '153k', '209k', '353k', '499k', '173k', '597k',\n",
              "       '809k', '122k', '411k', '400k', '801k', '787k', '237k', '50k',\n",
              "       '643k', '986k', '97k', '516k', '837k', '780k', '961k', '269k',\n",
              "       '20k', '498k', '600k', '749k', '642k', '881k', '72k', '656k',\n",
              "       '601k', '221k', '228k', '108k', '940k', '176k', '33k', '663k',\n",
              "       '34k', '942k', '259k', '164k', '458k', '245k', '629k', '28k',\n",
              "       '288k', '775k', '785k', '636k', '916k', '994k', '309k', '485k',\n",
              "       '914k', '903k', '608k', '500k', '54k', '562k', '847k', '957k',\n",
              "       '688k', '811k', '270k', '48k', '329k', '523k', '921k', '874k',\n",
              "       '981k', '784k', '280k', '24k', '518k', '754k', '892k', '154k',\n",
              "       '860k', '364k', '387k', '626k', '161k', '879k', '39k', '970k',\n",
              "       '170k', '141k', '160k', '144k', '143k', '190k', '376k', '193k',\n",
              "       '246k', '73k', '658k', '992k', '253k', '420k', '404k', '1,000+',\n",
              "       '470k', '226k', '240k', '89k', '234k', '257k', '861k', '467k',\n",
              "       '157k', '44k', '676k', '67k', '552k', '885k', '1020k', '582k',\n",
              "       '619k'], dtype=object)"
            ]
          },
          "metadata": {},
          "execution_count": 19
        }
      ]
    },
    {
      "cell_type": "code",
      "source": [
        "def fix_size(s):\n",
        "  try:\n",
        "    if s.endswith('M'):\n",
        "      return float(s[:-1])\n",
        "    elif s.endswith('k'):\n",
        "      return (float(s[:-1]) / 1024)\n",
        "    elif s == '1,000+':\n",
        "      return 1.0\n",
        "    else:\n",
        "      return np.nan\n",
        "  except:\n",
        "      return np.nan"
      ],
      "metadata": {
        "id": "xLVIhjWtVX02"
      },
      "execution_count": null,
      "outputs": []
    },
    {
      "cell_type": "markdown",
      "source": [
        "**Demo**"
      ],
      "metadata": {
        "id": "tigsriw5VvB7"
      }
    },
    {
      "cell_type": "code",
      "source": [
        "fix_size('98M')"
      ],
      "metadata": {
        "colab": {
          "base_uri": "https://localhost:8080/"
        },
        "id": "wfjqlX1FV4Qt",
        "outputId": "7ee9bb59-494b-4cf6-ce9d-16a3a7f68ba6"
      },
      "execution_count": null,
      "outputs": [
        {
          "output_type": "execute_result",
          "data": {
            "text/plain": [
              "98.0"
            ]
          },
          "metadata": {},
          "execution_count": 21
        }
      ]
    },
    {
      "cell_type": "markdown",
      "source": [
        "1 mb =1024kb"
      ],
      "metadata": {
        "id": "ukl-iBqEV788"
      }
    },
    {
      "cell_type": "code",
      "source": [
        "fix_size('45k')"
      ],
      "metadata": {
        "colab": {
          "base_uri": "https://localhost:8080/"
        },
        "id": "yO3jHFusXs3C",
        "outputId": "6b991841-7f85-4287-cd4c-fbd026067942"
      },
      "execution_count": null,
      "outputs": [
        {
          "output_type": "execute_result",
          "data": {
            "text/plain": [
              "0.0439453125"
            ]
          },
          "metadata": {},
          "execution_count": 22
        }
      ]
    },
    {
      "cell_type": "code",
      "source": [
        "fix_size('demo')"
      ],
      "metadata": {
        "colab": {
          "base_uri": "https://localhost:8080/"
        },
        "id": "7I71qOPTXtDB",
        "outputId": "3c25b813-57f1-4125-ca27-1e7fa356a351"
      },
      "execution_count": null,
      "outputs": [
        {
          "output_type": "execute_result",
          "data": {
            "text/plain": [
              "nan"
            ]
          },
          "metadata": {},
          "execution_count": 23
        }
      ]
    },
    {
      "cell_type": "markdown",
      "source": [
        "**fix the  all elements in Size columns**"
      ],
      "metadata": {
        "id": "OehI3jZVWUq1"
      }
    },
    {
      "cell_type": "code",
      "source": [
        "df['Size']= df['Size'].apply(fix_size)"
      ],
      "metadata": {
        "id": "j7_fIpuvWYMU"
      },
      "execution_count": null,
      "outputs": []
    },
    {
      "cell_type": "code",
      "source": [
        "df['Size'].unique()"
      ],
      "metadata": {
        "colab": {
          "base_uri": "https://localhost:8080/"
        },
        "id": "Lj3oO37ZWb1z",
        "outputId": "8f351230-6aed-49fb-ad78-e9b1d7f2995d"
      },
      "execution_count": null,
      "outputs": [
        {
          "output_type": "execute_result",
          "data": {
            "text/plain": [
              "array([1.90000000e+01, 1.40000000e+01, 8.70000000e+00, 2.50000000e+01,\n",
              "       2.80000000e+00, 5.60000000e+00, 2.90000000e+01, 3.30000000e+01,\n",
              "       3.10000000e+00, 2.80000000e+01, 1.20000000e+01, 2.00000000e+01,\n",
              "       2.10000000e+01, 3.70000000e+01, 2.70000000e+00, 5.50000000e+00,\n",
              "       1.70000000e+01, 3.90000000e+01, 3.10000000e+01, 4.20000000e+00,\n",
              "       7.00000000e+00, 2.30000000e+01, 6.00000000e+00, 6.10000000e+00,\n",
              "       4.60000000e+00, 9.20000000e+00, 5.20000000e+00, 1.10000000e+01,\n",
              "       2.40000000e+01,            nan, 9.40000000e+00, 1.50000000e+01,\n",
              "       1.00000000e+01, 1.20000000e+00, 2.60000000e+01, 8.00000000e+00,\n",
              "       7.90000000e+00, 5.60000000e+01, 5.70000000e+01, 3.50000000e+01,\n",
              "       5.40000000e+01, 1.96289062e-01, 3.60000000e+00, 5.70000000e+00,\n",
              "       8.60000000e+00, 2.40000000e+00, 2.70000000e+01, 2.50000000e+00,\n",
              "       1.60000000e+01, 3.40000000e+00, 8.90000000e+00, 3.90000000e+00,\n",
              "       2.90000000e+00, 3.80000000e+01, 3.20000000e+01, 5.40000000e+00,\n",
              "       1.80000000e+01, 1.10000000e+00, 2.20000000e+00, 4.50000000e+00,\n",
              "       9.80000000e+00, 5.20000000e+01, 9.00000000e+00, 6.70000000e+00,\n",
              "       3.00000000e+01, 2.60000000e+00, 7.10000000e+00, 3.70000000e+00,\n",
              "       2.20000000e+01, 7.40000000e+00, 6.40000000e+00, 3.20000000e+00,\n",
              "       8.20000000e+00, 9.90000000e+00, 4.90000000e+00, 9.50000000e+00,\n",
              "       5.00000000e+00, 5.90000000e+00, 1.30000000e+01, 7.30000000e+01,\n",
              "       6.80000000e+00, 3.50000000e+00, 4.00000000e+00, 2.30000000e+00,\n",
              "       7.20000000e+00, 2.10000000e+00, 4.20000000e+01, 7.30000000e+00,\n",
              "       9.10000000e+00, 5.50000000e+01, 2.24609375e-02, 6.50000000e+00,\n",
              "       1.50000000e+00, 7.50000000e+00, 5.10000000e+01, 4.10000000e+01,\n",
              "       4.80000000e+01, 8.50000000e+00, 4.60000000e+01, 8.30000000e+00,\n",
              "       4.30000000e+00, 4.70000000e+00, 3.30000000e+00, 4.00000000e+01,\n",
              "       7.80000000e+00, 8.80000000e+00, 6.60000000e+00, 5.10000000e+00,\n",
              "       6.10000000e+01, 6.60000000e+01, 7.71484375e-02, 8.40000000e+00,\n",
              "       1.15234375e-01, 4.40000000e+01, 6.78710938e-01, 1.60000000e+00,\n",
              "       6.20000000e+00, 1.75781250e-02, 5.30000000e+01, 1.40000000e+00,\n",
              "       3.00000000e+00, 5.80000000e+00, 3.80000000e+00, 9.60000000e+00,\n",
              "       4.50000000e+01, 6.30000000e+01, 4.90000000e+01, 7.70000000e+01,\n",
              "       4.40000000e+00, 4.80000000e+00, 7.00000000e+01, 6.90000000e+00,\n",
              "       9.30000000e+00, 8.10000000e+00, 3.60000000e+01, 8.40000000e+01,\n",
              "       9.70000000e+01, 2.00000000e+00, 1.90000000e+00, 1.80000000e+00,\n",
              "       5.30000000e+00, 4.70000000e+01, 5.42968750e-01, 5.13671875e-01,\n",
              "       7.60000000e+01, 7.60000000e+00, 5.90000000e+01, 9.70000000e+00,\n",
              "       7.80000000e+01, 7.20000000e+01, 4.30000000e+01, 7.70000000e+00,\n",
              "       6.30000000e+00, 3.26171875e-01, 3.40000000e+01, 9.30000000e+01,\n",
              "       6.50000000e+01, 7.90000000e+01, 1.00000000e+02, 5.80000000e+01,\n",
              "       5.00000000e+01, 6.80000000e+01, 6.40000000e+01, 6.70000000e+01,\n",
              "       6.00000000e+01, 9.40000000e+01, 2.26562500e-01, 9.90000000e+01,\n",
              "       6.09375000e-01, 9.50000000e+01, 8.30078125e-03, 4.00390625e-02,\n",
              "       2.85156250e-01, 1.07421875e-02, 8.00000000e+01, 1.70000000e+00,\n",
              "       7.40000000e+01, 6.20000000e+01, 6.90000000e+01, 7.50000000e+01,\n",
              "       9.80000000e+01, 8.50000000e+01, 8.20000000e+01, 9.60000000e+01,\n",
              "       8.70000000e+01, 7.10000000e+01, 8.60000000e+01, 9.10000000e+01,\n",
              "       8.10000000e+01, 9.20000000e+01, 8.30000000e+01, 8.80000000e+01,\n",
              "       6.87500000e-01, 8.41796875e-01, 8.77929688e-01, 3.69140625e-01,\n",
              "       2.59765625e-01, 3.66210938e-01, 1.30000000e+00, 9.52148438e-01,\n",
              "       9.57031250e-01, 4.10000000e+00, 8.90000000e+01, 6.79687500e-01,\n",
              "       5.31250000e-01, 5.12695312e-01, 8.98437500e-01, 7.60742188e-01,\n",
              "       8.33007812e-01, 7.03125000e-01, 6.96289062e-01, 7.53906250e-01,\n",
              "       3.10546875e-01, 5.66406250e-02, 2.35351562e-01, 1.91406250e-01,\n",
              "       8.36914062e-01, 4.98046875e-02, 9.30664062e-01, 8.44726562e-01,\n",
              "       2.45117188e-01, 9.08203125e-01, 5.27343750e-01, 3.05664062e-01,\n",
              "       7.28515625e-01, 1.98242188e-01, 2.53906250e-02, 3.06640625e-01,\n",
              "       2.33398438e-01, 3.62304688e-01, 2.14843750e-01, 7.12890625e-01,\n",
              "       7.38281250e-01, 8.88671875e-02, 2.86132812e-01, 1.66015625e-02,\n",
              "       7.22656250e-02, 1.36718750e-02, 3.09570312e-01, 7.61718750e-02,\n",
              "       9.02343750e-01, 8.80859375e-01, 7.98828125e-01, 7.91015625e-02,\n",
              "       9.16992188e-01, 1.65039062e-01, 4.39453125e-02, 4.63867188e-01,\n",
              "       9.42382812e-01, 9.00000000e+01, 5.32226562e-01, 5.95703125e-02,\n",
              "       2.76367188e-01, 6.39648438e-01, 6.97265625e-01, 9.08203125e-02,\n",
              "       8.51562500e-01, 1.18164062e-01, 3.14453125e-01, 1.00000000e+00,\n",
              "       9.53125000e-01, 1.67968750e-01, 2.32421875e-01, 5.36132812e-01,\n",
              "       2.01171875e-01, 9.31640625e-01, 4.33593750e-01, 7.00195312e-01,\n",
              "       2.05078125e-01, 5.94726562e-01, 3.00781250e-01, 6.88476562e-01,\n",
              "       2.98828125e-01, 8.82812500e-01, 4.61914062e-01, 1.70898438e-01,\n",
              "       3.41796875e-01, 3.74023438e-01, 4.43359375e-01, 4.11132812e-01,\n",
              "       6.83593750e-02, 7.92968750e-01, 4.31640625e-01, 8.22265625e-01,\n",
              "       4.07226562e-01, 4.02343750e-01, 4.48242188e-01, 4.66796875e-01,\n",
              "       3.27148438e-01, 7.63671875e-01, 7.04101562e-01, 4.19921875e-01,\n",
              "       4.18945312e-01, 1.87500000e-01, 1.95312500e-01, 4.49218750e-01,\n",
              "       7.10937500e-01, 4.84375000e-01, 7.96875000e-01, 4.04296875e-01,\n",
              "       4.94140625e-01, 8.66210938e-01, 5.98632812e-01, 2.37304688e-01,\n",
              "       5.55664062e-01, 7.59765625e-01, 6.66992188e-01, 5.78125000e-01,\n",
              "       3.11523438e-01, 1.81640625e-01, 8.20312500e-01, 6.31835938e-01,\n",
              "       1.86523438e-01, 3.64257812e-01, 4.26757812e-01, 5.83984375e-01,\n",
              "       6.99218750e-01, 5.71289062e-01, 9.58984375e-01, 2.16796875e-01,\n",
              "       2.13867188e-01, 5.37109375e-02, 9.25781250e-01, 3.15429688e-01,\n",
              "       6.74804688e-01, 4.99023438e-01, 9.28710938e-01, 9.40429688e-01,\n",
              "       2.44140625e-02, 5.41015625e-01, 3.42773438e-01, 2.63671875e-02,\n",
              "       8.00781250e-02, 2.03125000e-01, 8.91601562e-01, 5.01953125e-01,\n",
              "       5.38085938e-01, 2.83203125e-02, 1.00585938e-01, 8.76953125e-01,\n",
              "       7.25585938e-01, 1.13281250e-01, 1.49414062e-01, 2.04101562e-01,\n",
              "       3.44726562e-01, 4.87304688e-01, 1.68945312e-01, 5.83007812e-01,\n",
              "       7.90039062e-01, 1.19140625e-01, 4.01367188e-01, 3.90625000e-01,\n",
              "       7.82226562e-01, 7.68554688e-01, 2.31445312e-01, 4.88281250e-02,\n",
              "       6.27929688e-01, 9.62890625e-01, 9.47265625e-02, 5.03906250e-01,\n",
              "       8.17382812e-01, 7.61718750e-01, 9.38476562e-01, 2.62695312e-01,\n",
              "       1.95312500e-02, 4.86328125e-01, 5.85937500e-01, 7.31445312e-01,\n",
              "       6.26953125e-01, 8.60351562e-01, 7.03125000e-02, 6.40625000e-01,\n",
              "       5.86914062e-01, 2.15820312e-01, 2.22656250e-01, 1.05468750e-01,\n",
              "       9.17968750e-01, 1.71875000e-01, 3.22265625e-02, 6.47460938e-01,\n",
              "       3.32031250e-02, 9.19921875e-01, 2.52929688e-01, 1.60156250e-01,\n",
              "       4.47265625e-01, 2.39257812e-01, 6.14257812e-01, 2.73437500e-02,\n",
              "       2.81250000e-01, 7.56835938e-01, 7.66601562e-01, 6.21093750e-01,\n",
              "       8.94531250e-01, 9.70703125e-01, 3.01757812e-01, 4.73632812e-01,\n",
              "       8.92578125e-01, 8.81835938e-01, 5.93750000e-01, 4.88281250e-01,\n",
              "       5.27343750e-02, 5.48828125e-01, 8.27148438e-01, 9.34570312e-01,\n",
              "       6.71875000e-01, 7.91992188e-01, 2.63671875e-01, 4.68750000e-02,\n",
              "       3.21289062e-01, 5.10742188e-01, 8.99414062e-01, 8.53515625e-01,\n",
              "       9.58007812e-01, 7.65625000e-01, 2.73437500e-01, 2.34375000e-02,\n",
              "       5.05859375e-01, 7.36328125e-01, 8.71093750e-01, 1.50390625e-01,\n",
              "       8.39843750e-01, 3.55468750e-01, 3.77929688e-01, 6.11328125e-01,\n",
              "       1.57226562e-01, 8.58398438e-01, 3.80859375e-02, 9.47265625e-01,\n",
              "       1.66015625e-01, 1.37695312e-01, 1.56250000e-01, 1.40625000e-01,\n",
              "       1.39648438e-01, 1.85546875e-01, 3.67187500e-01, 1.88476562e-01,\n",
              "       2.40234375e-01, 7.12890625e-02, 6.42578125e-01, 9.68750000e-01,\n",
              "       2.47070312e-01, 4.10156250e-01, 3.94531250e-01, 4.58984375e-01,\n",
              "       2.20703125e-01, 2.34375000e-01, 8.69140625e-02, 2.28515625e-01,\n",
              "       2.50976562e-01, 8.40820312e-01, 4.56054688e-01, 1.53320312e-01,\n",
              "       4.29687500e-02, 6.60156250e-01, 6.54296875e-02, 5.39062500e-01,\n",
              "       8.64257812e-01, 9.96093750e-01, 5.68359375e-01, 6.04492188e-01])"
            ]
          },
          "metadata": {},
          "execution_count": 25
        }
      ]
    },
    {
      "cell_type": "code",
      "source": [
        "df.info()"
      ],
      "metadata": {
        "colab": {
          "base_uri": "https://localhost:8080/"
        },
        "id": "eDrx_TPNWjY8",
        "outputId": "4e3b4a83-69ac-4435-8493-c29a9de8ded9"
      },
      "execution_count": null,
      "outputs": [
        {
          "output_type": "stream",
          "name": "stdout",
          "text": [
            "<class 'pandas.core.frame.DataFrame'>\n",
            "RangeIndex: 10841 entries, 0 to 10840\n",
            "Data columns (total 13 columns):\n",
            " #   Column          Non-Null Count  Dtype  \n",
            "---  ------          --------------  -----  \n",
            " 0   App             10841 non-null  object \n",
            " 1   Category        10841 non-null  object \n",
            " 2   Rating          9367 non-null   float64\n",
            " 3   Reviews         10840 non-null  float64\n",
            " 4   Size            9146 non-null   float64\n",
            " 5   Installs        10841 non-null  object \n",
            " 6   Type            10840 non-null  object \n",
            " 7   Price           10841 non-null  object \n",
            " 8   Content Rating  10840 non-null  object \n",
            " 9   Genres          10841 non-null  object \n",
            " 10  Last Updated    10841 non-null  object \n",
            " 11  Current Ver     10833 non-null  object \n",
            " 12  Android Ver     10838 non-null  object \n",
            "dtypes: float64(3), object(10)\n",
            "memory usage: 1.1+ MB\n"
          ]
        }
      ]
    },
    {
      "cell_type": "code",
      "source": [
        "df['Price'].unique()"
      ],
      "metadata": {
        "colab": {
          "base_uri": "https://localhost:8080/"
        },
        "id": "LG6L_BqSWnvj",
        "outputId": "b5de3620-2f24-4a20-9335-16a5c1a00901"
      },
      "execution_count": null,
      "outputs": [
        {
          "output_type": "execute_result",
          "data": {
            "text/plain": [
              "array(['0', '$4.99', '$3.99', '$6.99', '$1.49', '$2.99', '$7.99', '$5.99',\n",
              "       '$3.49', '$1.99', '$9.99', '$7.49', '$0.99', '$9.00', '$5.49',\n",
              "       '$10.00', '$24.99', '$11.99', '$79.99', '$16.99', '$14.99',\n",
              "       '$1.00', '$29.99', '$12.99', '$2.49', '$10.99', '$1.50', '$19.99',\n",
              "       '$15.99', '$33.99', '$74.99', '$39.99', '$3.95', '$4.49', '$1.70',\n",
              "       '$8.99', '$2.00', '$3.88', '$25.99', '$399.99', '$17.99',\n",
              "       '$400.00', '$3.02', '$1.76', '$4.84', '$4.77', '$1.61', '$2.50',\n",
              "       '$1.59', '$6.49', '$1.29', '$5.00', '$13.99', '$299.99', '$379.99',\n",
              "       '$37.99', '$18.99', '$389.99', '$19.90', '$8.49', '$1.75',\n",
              "       '$14.00', '$4.85', '$46.99', '$109.99', '$154.99', '$3.08',\n",
              "       '$2.59', '$4.80', '$1.96', '$19.40', '$3.90', '$4.59', '$15.46',\n",
              "       '$3.04', '$4.29', '$2.60', '$3.28', '$4.60', '$28.99', '$2.95',\n",
              "       '$2.90', '$1.97', '$200.00', '$89.99', '$2.56', '$30.99', '$3.61',\n",
              "       '$394.99', '$1.26', 'Everyone', '$1.20', '$1.04'], dtype=object)"
            ]
          },
          "metadata": {},
          "execution_count": 27
        }
      ]
    },
    {
      "cell_type": "code",
      "source": [
        "def fix_Price(A):\n",
        "  try:\n",
        "    if A.startswith('$'):\n",
        "      return float(A[1:])\n",
        "    else:\n",
        "      return 0.0\n",
        "  except:\n",
        "    return np.nan"
      ],
      "metadata": {
        "id": "j0g4wVUxWrJz"
      },
      "execution_count": null,
      "outputs": []
    },
    {
      "cell_type": "code",
      "source": [
        "df['Price']=ad['Price']"
      ],
      "metadata": {
        "id": "bX5SBFyOa2t8"
      },
      "execution_count": null,
      "outputs": []
    },
    {
      "cell_type": "code",
      "source": [
        "df.info()"
      ],
      "metadata": {
        "colab": {
          "base_uri": "https://localhost:8080/"
        },
        "id": "1UWyFWBScoBj",
        "outputId": "d0fe961a-e72b-4d56-afd5-3fa007dad8eb"
      },
      "execution_count": null,
      "outputs": [
        {
          "output_type": "stream",
          "name": "stdout",
          "text": [
            "<class 'pandas.core.frame.DataFrame'>\n",
            "RangeIndex: 10841 entries, 0 to 10840\n",
            "Data columns (total 13 columns):\n",
            " #   Column          Non-Null Count  Dtype  \n",
            "---  ------          --------------  -----  \n",
            " 0   App             10841 non-null  object \n",
            " 1   Category        10841 non-null  object \n",
            " 2   Rating          9367 non-null   float64\n",
            " 3   Reviews         10840 non-null  float64\n",
            " 4   Size            9146 non-null   float64\n",
            " 5   Installs        10841 non-null  object \n",
            " 6   Type            10840 non-null  object \n",
            " 7   Price           10841 non-null  object \n",
            " 8   Content Rating  10840 non-null  object \n",
            " 9   Genres          10841 non-null  object \n",
            " 10  Last Updated    10841 non-null  object \n",
            " 11  Current Ver     10833 non-null  object \n",
            " 12  Android Ver     10838 non-null  object \n",
            "dtypes: float64(3), object(10)\n",
            "memory usage: 1.1+ MB\n"
          ]
        }
      ]
    },
    {
      "cell_type": "code",
      "source": [
        "fix_Price('Everyone')"
      ],
      "metadata": {
        "colab": {
          "base_uri": "https://localhost:8080/"
        },
        "id": "QM32OFv6BNGh",
        "outputId": "ac6ea26c-32fe-4207-9381-eb9402c26b9b"
      },
      "execution_count": null,
      "outputs": [
        {
          "output_type": "execute_result",
          "data": {
            "text/plain": [
              "0.0"
            ]
          },
          "metadata": {},
          "execution_count": 31
        }
      ]
    },
    {
      "cell_type": "code",
      "source": [
        "df['Price']=df['Price'].apply(fix_Price)"
      ],
      "metadata": {
        "id": "yuWO26jkW3_z"
      },
      "execution_count": null,
      "outputs": []
    },
    {
      "cell_type": "code",
      "source": [
        "df.info()"
      ],
      "metadata": {
        "colab": {
          "base_uri": "https://localhost:8080/"
        },
        "id": "_1hxSRb8Yc_4",
        "outputId": "75389ab3-1d5c-49aa-e62b-37f1644e9700"
      },
      "execution_count": null,
      "outputs": [
        {
          "output_type": "stream",
          "name": "stdout",
          "text": [
            "<class 'pandas.core.frame.DataFrame'>\n",
            "RangeIndex: 10841 entries, 0 to 10840\n",
            "Data columns (total 13 columns):\n",
            " #   Column          Non-Null Count  Dtype  \n",
            "---  ------          --------------  -----  \n",
            " 0   App             10841 non-null  object \n",
            " 1   Category        10841 non-null  object \n",
            " 2   Rating          9367 non-null   float64\n",
            " 3   Reviews         10840 non-null  float64\n",
            " 4   Size            9146 non-null   float64\n",
            " 5   Installs        10841 non-null  object \n",
            " 6   Type            10840 non-null  object \n",
            " 7   Price           10841 non-null  float64\n",
            " 8   Content Rating  10840 non-null  object \n",
            " 9   Genres          10841 non-null  object \n",
            " 10  Last Updated    10841 non-null  object \n",
            " 11  Current Ver     10833 non-null  object \n",
            " 12  Android Ver     10838 non-null  object \n",
            "dtypes: float64(4), object(9)\n",
            "memory usage: 1.1+ MB\n"
          ]
        }
      ]
    },
    {
      "cell_type": "code",
      "source": [
        "df['Price'].unique()"
      ],
      "metadata": {
        "colab": {
          "base_uri": "https://localhost:8080/"
        },
        "id": "zvMOpqGWZIs0",
        "outputId": "1bfbd9eb-d0a1-4492-d2fd-85529a9d43ef"
      },
      "execution_count": null,
      "outputs": [
        {
          "output_type": "execute_result",
          "data": {
            "text/plain": [
              "array([  0.  ,   4.99,   3.99,   6.99,   1.49,   2.99,   7.99,   5.99,\n",
              "         3.49,   1.99,   9.99,   7.49,   0.99,   9.  ,   5.49,  10.  ,\n",
              "        24.99,  11.99,  79.99,  16.99,  14.99,   1.  ,  29.99,  12.99,\n",
              "         2.49,  10.99,   1.5 ,  19.99,  15.99,  33.99,  74.99,  39.99,\n",
              "         3.95,   4.49,   1.7 ,   8.99,   2.  ,   3.88,  25.99, 399.99,\n",
              "        17.99, 400.  ,   3.02,   1.76,   4.84,   4.77,   1.61,   2.5 ,\n",
              "         1.59,   6.49,   1.29,   5.  ,  13.99, 299.99, 379.99,  37.99,\n",
              "        18.99, 389.99,  19.9 ,   8.49,   1.75,  14.  ,   4.85,  46.99,\n",
              "       109.99, 154.99,   3.08,   2.59,   4.8 ,   1.96,  19.4 ,   3.9 ,\n",
              "         4.59,  15.46,   3.04,   4.29,   2.6 ,   3.28,   4.6 ,  28.99,\n",
              "         2.95,   2.9 ,   1.97, 200.  ,  89.99,   2.56,  30.99,   3.61,\n",
              "       394.99,   1.26,   1.2 ,   1.04])"
            ]
          },
          "metadata": {},
          "execution_count": 34
        }
      ]
    },
    {
      "cell_type": "code",
      "source": [
        "df['Rating'].unique()"
      ],
      "metadata": {
        "colab": {
          "base_uri": "https://localhost:8080/"
        },
        "id": "5bUSNrmYBapH",
        "outputId": "bc43f2ac-4984-434e-f730-d99b7b092d2b"
      },
      "execution_count": null,
      "outputs": [
        {
          "output_type": "execute_result",
          "data": {
            "text/plain": [
              "array([ 4.1,  3.9,  4.7,  4.5,  4.3,  4.4,  3.8,  4.2,  4.6,  3.2,  4. ,\n",
              "        nan,  4.8,  4.9,  3.6,  3.7,  3.3,  3.4,  3.5,  3.1,  5. ,  2.6,\n",
              "        3. ,  1.9,  2.5,  2.8,  2.7,  1. ,  2.9,  2.3,  2.2,  1.7,  2. ,\n",
              "        1.8,  2.4,  1.6,  2.1,  1.4,  1.5,  1.2, 19. ])"
            ]
          },
          "metadata": {},
          "execution_count": 35
        }
      ]
    },
    {
      "cell_type": "code",
      "source": [
        "fx = df[df['Rating']>5].index\n",
        "fx\n"
      ],
      "metadata": {
        "id": "SS3rve-naxqh",
        "colab": {
          "base_uri": "https://localhost:8080/"
        },
        "outputId": "08452208-4346-45e4-fe10-ed80428c20b7"
      },
      "execution_count": null,
      "outputs": [
        {
          "output_type": "execute_result",
          "data": {
            "text/plain": [
              "Int64Index([10472], dtype='int64')"
            ]
          },
          "metadata": {},
          "execution_count": 36
        }
      ]
    },
    {
      "cell_type": "code",
      "source": [
        "df.drop(fx,axis =0,inplace =True)"
      ],
      "metadata": {
        "id": "tUuwCNYtnHat"
      },
      "execution_count": null,
      "outputs": []
    },
    {
      "cell_type": "code",
      "source": [
        "df.info()"
      ],
      "metadata": {
        "colab": {
          "base_uri": "https://localhost:8080/"
        },
        "id": "32Gn0h6_nOr7",
        "outputId": "e8cc96d9-1812-409b-cd68-c7e8daac80b2"
      },
      "execution_count": null,
      "outputs": [
        {
          "output_type": "stream",
          "name": "stdout",
          "text": [
            "<class 'pandas.core.frame.DataFrame'>\n",
            "Int64Index: 10840 entries, 0 to 10840\n",
            "Data columns (total 13 columns):\n",
            " #   Column          Non-Null Count  Dtype  \n",
            "---  ------          --------------  -----  \n",
            " 0   App             10840 non-null  object \n",
            " 1   Category        10840 non-null  object \n",
            " 2   Rating          9366 non-null   float64\n",
            " 3   Reviews         10840 non-null  float64\n",
            " 4   Size            9145 non-null   float64\n",
            " 5   Installs        10840 non-null  object \n",
            " 6   Type            10839 non-null  object \n",
            " 7   Price           10840 non-null  float64\n",
            " 8   Content Rating  10840 non-null  object \n",
            " 9   Genres          10840 non-null  object \n",
            " 10  Last Updated    10840 non-null  object \n",
            " 11  Current Ver     10832 non-null  object \n",
            " 12  Android Ver     10838 non-null  object \n",
            "dtypes: float64(4), object(9)\n",
            "memory usage: 1.2+ MB\n"
          ]
        }
      ]
    },
    {
      "cell_type": "code",
      "source": [
        "df['Category'].unique()"
      ],
      "metadata": {
        "colab": {
          "base_uri": "https://localhost:8080/"
        },
        "id": "-h-_IbwK7SDo",
        "outputId": "99912c58-89c9-46e8-92c6-c107f024a12d"
      },
      "execution_count": null,
      "outputs": [
        {
          "output_type": "execute_result",
          "data": {
            "text/plain": [
              "array(['ART_AND_DESIGN', 'AUTO_AND_VEHICLES', 'BEAUTY',\n",
              "       'BOOKS_AND_REFERENCE', 'BUSINESS', 'COMICS', 'COMMUNICATION',\n",
              "       'DATING', 'EDUCATION', 'ENTERTAINMENT', 'EVENTS', 'FINANCE',\n",
              "       'FOOD_AND_DRINK', 'HEALTH_AND_FITNESS', 'HOUSE_AND_HOME',\n",
              "       'LIBRARIES_AND_DEMO', 'LIFESTYLE', 'GAME', 'FAMILY', 'MEDICAL',\n",
              "       'SOCIAL', 'SHOPPING', 'PHOTOGRAPHY', 'SPORTS', 'TRAVEL_AND_LOCAL',\n",
              "       'TOOLS', 'PERSONALIZATION', 'PRODUCTIVITY', 'PARENTING', 'WEATHER',\n",
              "       'VIDEO_PLAYERS', 'NEWS_AND_MAGAZINES', 'MAPS_AND_NAVIGATION'],\n",
              "      dtype=object)"
            ]
          },
          "metadata": {},
          "execution_count": 39
        }
      ]
    },
    {
      "cell_type": "code",
      "source": [
        "def lower_category(B):\n",
        "  return B.title()"
      ],
      "metadata": {
        "id": "y_6EuwWxnV7L"
      },
      "execution_count": null,
      "outputs": []
    },
    {
      "cell_type": "code",
      "source": [
        "lower_category('AUTO_AND_VEHICLES')\n"
      ],
      "metadata": {
        "colab": {
          "base_uri": "https://localhost:8080/",
          "height": 36
        },
        "id": "YaqRYmv1nZsp",
        "outputId": "78371dfb-6e6f-4b95-81b5-6d6f23cb30c5"
      },
      "execution_count": null,
      "outputs": [
        {
          "output_type": "execute_result",
          "data": {
            "text/plain": [
              "'Auto_And_Vehicles'"
            ],
            "application/vnd.google.colaboratory.intrinsic+json": {
              "type": "string"
            }
          },
          "metadata": {},
          "execution_count": 41
        }
      ]
    },
    {
      "cell_type": "code",
      "source": [
        "df['Category'] =df['Category'].apply(lower_category)\n"
      ],
      "metadata": {
        "id": "B99Xm_7zBcPY"
      },
      "execution_count": null,
      "outputs": []
    },
    {
      "cell_type": "code",
      "source": [
        "df.info()"
      ],
      "metadata": {
        "colab": {
          "base_uri": "https://localhost:8080/"
        },
        "id": "ICWhb_ubnihm",
        "outputId": "9e696056-4abc-42b1-ce63-2250702129ea"
      },
      "execution_count": null,
      "outputs": [
        {
          "output_type": "stream",
          "name": "stdout",
          "text": [
            "<class 'pandas.core.frame.DataFrame'>\n",
            "Int64Index: 10840 entries, 0 to 10840\n",
            "Data columns (total 13 columns):\n",
            " #   Column          Non-Null Count  Dtype  \n",
            "---  ------          --------------  -----  \n",
            " 0   App             10840 non-null  object \n",
            " 1   Category        10840 non-null  object \n",
            " 2   Rating          9366 non-null   float64\n",
            " 3   Reviews         10840 non-null  float64\n",
            " 4   Size            9145 non-null   float64\n",
            " 5   Installs        10840 non-null  object \n",
            " 6   Type            10839 non-null  object \n",
            " 7   Price           10840 non-null  float64\n",
            " 8   Content Rating  10840 non-null  object \n",
            " 9   Genres          10840 non-null  object \n",
            " 10  Last Updated    10840 non-null  object \n",
            " 11  Current Ver     10832 non-null  object \n",
            " 12  Android Ver     10838 non-null  object \n",
            "dtypes: float64(4), object(9)\n",
            "memory usage: 1.2+ MB\n"
          ]
        }
      ]
    },
    {
      "cell_type": "code",
      "source": [
        "df['Installs'].unique()"
      ],
      "metadata": {
        "colab": {
          "base_uri": "https://localhost:8080/"
        },
        "id": "XtJ-VErnnolk",
        "outputId": "155e3eb6-1d6e-43e4-dd11-268744f53c6e"
      },
      "execution_count": null,
      "outputs": [
        {
          "output_type": "execute_result",
          "data": {
            "text/plain": [
              "array(['10,000+', '500,000+', '5,000,000+', '50,000,000+', '100,000+',\n",
              "       '50,000+', '1,000,000+', '10,000,000+', '5,000+', '100,000,000+',\n",
              "       '1,000,000,000+', '1,000+', '500,000,000+', '50+', '100+', '500+',\n",
              "       '10+', '1+', '5+', '0+', '0'], dtype=object)"
            ]
          },
          "metadata": {},
          "execution_count": 44
        }
      ]
    },
    {
      "cell_type": "code",
      "source": [
        "df['Installs'] = df.Installs.str.replace(\",\",\"\")\n",
        "df['Installs'] = df.Installs.str.replace(\"+\",\"\")\n",
        "df['Installs'] = df['Installs'].astype(float)\n",
        "df['Installs'].dtype"
      ],
      "metadata": {
        "colab": {
          "base_uri": "https://localhost:8080/"
        },
        "id": "LTIWwhUwB-Rh",
        "outputId": "d5402e17-7590-4459-c6ae-6067c97934b9"
      },
      "execution_count": null,
      "outputs": [
        {
          "output_type": "stream",
          "name": "stderr",
          "text": [
            "<ipython-input-45-0a7b6c17fc24>:2: FutureWarning: The default value of regex will change from True to False in a future version. In addition, single character regular expressions will *not* be treated as literal strings when regex=True.\n",
            "  df['Installs'] = df.Installs.str.replace(\"+\",\"\")\n"
          ]
        },
        {
          "output_type": "execute_result",
          "data": {
            "text/plain": [
              "dtype('float64')"
            ]
          },
          "metadata": {},
          "execution_count": 45
        }
      ]
    },
    {
      "cell_type": "code",
      "source": [
        "df['Installs'].unique()"
      ],
      "metadata": {
        "colab": {
          "base_uri": "https://localhost:8080/"
        },
        "id": "aLvgybPuE5GD",
        "outputId": "c5064ea8-789a-4c36-a75f-72601c90d90d"
      },
      "execution_count": null,
      "outputs": [
        {
          "output_type": "execute_result",
          "data": {
            "text/plain": [
              "array([1.e+04, 5.e+05, 5.e+06, 5.e+07, 1.e+05, 5.e+04, 1.e+06, 1.e+07,\n",
              "       5.e+03, 1.e+08, 1.e+09, 1.e+03, 5.e+08, 5.e+01, 1.e+02, 5.e+02,\n",
              "       1.e+01, 1.e+00, 5.e+00, 0.e+00])"
            ]
          },
          "metadata": {},
          "execution_count": 46
        }
      ]
    },
    {
      "cell_type": "code",
      "source": [
        "df.info()"
      ],
      "metadata": {
        "colab": {
          "base_uri": "https://localhost:8080/"
        },
        "id": "uE5ToBpwFHSl",
        "outputId": "4d775bdb-82b9-437b-dfbf-4ec1093a2f03"
      },
      "execution_count": null,
      "outputs": [
        {
          "output_type": "stream",
          "name": "stdout",
          "text": [
            "<class 'pandas.core.frame.DataFrame'>\n",
            "Int64Index: 10840 entries, 0 to 10840\n",
            "Data columns (total 13 columns):\n",
            " #   Column          Non-Null Count  Dtype  \n",
            "---  ------          --------------  -----  \n",
            " 0   App             10840 non-null  object \n",
            " 1   Category        10840 non-null  object \n",
            " 2   Rating          9366 non-null   float64\n",
            " 3   Reviews         10840 non-null  float64\n",
            " 4   Size            9145 non-null   float64\n",
            " 5   Installs        10840 non-null  float64\n",
            " 6   Type            10839 non-null  object \n",
            " 7   Price           10840 non-null  float64\n",
            " 8   Content Rating  10840 non-null  object \n",
            " 9   Genres          10840 non-null  object \n",
            " 10  Last Updated    10840 non-null  object \n",
            " 11  Current Ver     10832 non-null  object \n",
            " 12  Android Ver     10838 non-null  object \n",
            "dtypes: float64(5), object(8)\n",
            "memory usage: 1.2+ MB\n"
          ]
        }
      ]
    },
    {
      "cell_type": "code",
      "source": [
        "df['Android Ver'].unique()"
      ],
      "metadata": {
        "colab": {
          "base_uri": "https://localhost:8080/"
        },
        "id": "EB7j-ILDn1tl",
        "outputId": "f6303845-f75e-490c-db65-1ae329b80002"
      },
      "execution_count": null,
      "outputs": [
        {
          "output_type": "execute_result",
          "data": {
            "text/plain": [
              "array(['4.0.3 and up', '4.2 and up', '4.4 and up', '2.3 and up',\n",
              "       '3.0 and up', '4.1 and up', '4.0 and up', '2.3.3 and up',\n",
              "       'Varies with device', '2.2 and up', '5.0 and up', '6.0 and up',\n",
              "       '1.6 and up', '1.5 and up', '2.1 and up', '7.0 and up',\n",
              "       '5.1 and up', '4.3 and up', '4.0.3 - 7.1.1', '2.0 and up',\n",
              "       '3.2 and up', '4.4W and up', '7.1 and up', '7.0 - 7.1.1',\n",
              "       '8.0 and up', '5.0 - 8.0', '3.1 and up', '2.0.1 and up',\n",
              "       '4.1 - 7.1.1', nan, '5.0 - 6.0', '1.0 and up', '2.2 - 7.1.1',\n",
              "       '5.0 - 7.1.1'], dtype=object)"
            ]
          },
          "metadata": {},
          "execution_count": 48
        }
      ]
    },
    {
      "cell_type": "code",
      "source": [
        "def correction(y):\n",
        "  try:\n",
        "    if y == 'Varies with device':\n",
        "      return np.nan\n",
        "    elif y == '4.4W and up':\n",
        "      return y.replace('W','')\n",
        "    else:\n",
        "      return y\n",
        "  except:\n",
        "      return y"
      ],
      "metadata": {
        "id": "4dKeoM5hoM-z"
      },
      "execution_count": null,
      "outputs": []
    },
    {
      "cell_type": "code",
      "source": [
        "df['Android Ver'] = df['Android Ver'].apply(correction)"
      ],
      "metadata": {
        "id": "SpBN9v6mcno8"
      },
      "execution_count": null,
      "outputs": []
    },
    {
      "cell_type": "code",
      "source": [
        "df['Android Ver'].unique()"
      ],
      "metadata": {
        "id": "P4tewKFjcn3L",
        "colab": {
          "base_uri": "https://localhost:8080/"
        },
        "outputId": "bde23983-e342-4d72-b999-8f8b9bd39027"
      },
      "execution_count": null,
      "outputs": [
        {
          "output_type": "execute_result",
          "data": {
            "text/plain": [
              "array(['4.0.3 and up', '4.2 and up', '4.4 and up', '2.3 and up',\n",
              "       '3.0 and up', '4.1 and up', '4.0 and up', '2.3.3 and up', nan,\n",
              "       '2.2 and up', '5.0 and up', '6.0 and up', '1.6 and up',\n",
              "       '1.5 and up', '2.1 and up', '7.0 and up', '5.1 and up',\n",
              "       '4.3 and up', '4.0.3 - 7.1.1', '2.0 and up', '3.2 and up',\n",
              "       '7.1 and up', '7.0 - 7.1.1', '8.0 and up', '5.0 - 8.0',\n",
              "       '3.1 and up', '2.0.1 and up', '4.1 - 7.1.1', '5.0 - 6.0',\n",
              "       '1.0 and up', '2.2 - 7.1.1', '5.0 - 7.1.1'], dtype=object)"
            ]
          },
          "metadata": {},
          "execution_count": 51
        }
      ]
    },
    {
      "cell_type": "markdown",
      "source": [
        "#**Top 10 Highest rating Apps in google play store in terms of categories**#"
      ],
      "metadata": {
        "id": "7wtXja0gKXNb"
      }
    },
    {
      "cell_type": "code",
      "source": [
        "cp=df.sort_values(['Rating'],ascending=False)\n",
        "Highest_Rating_App= cp.loc[:,['App','Category','Rating']]\n",
        "Highest_Rating_App.head(11)"
      ],
      "metadata": {
        "id": "J2GrP4czcn_T",
        "colab": {
          "base_uri": "https://localhost:8080/",
          "height": 394
        },
        "outputId": "2d046fb3-7edc-402f-dfbc-f6bd7edf832b"
      },
      "execution_count": null,
      "outputs": [
        {
          "output_type": "execute_result",
          "data": {
            "text/plain": [
              "                              App            Category  Rating\n",
              "9056  Santa's Monster Shootout DX                Game     5.0\n",
              "8395                        DG TV  News_And_Magazines     5.0\n",
              "8493          PK and DK Audio App              Family     5.0\n",
              "6330    HON. B.J. ACS COLLEGE ALE              Family     5.0\n",
              "6342                     BJ Foods            Business     5.0\n",
              "6363          Read it easy for BK           Lifestyle     5.0\n",
              "9766                    ER Assist        Productivity     5.0\n",
              "6364              BK Video Status              Family     5.0\n",
              "6372        BK Formula Calculator               Tools     5.0\n",
              "6375            Dr Bk Sachin bhai           Lifestyle     5.0\n",
              "9806         Dr. ES PV Calculator               Tools     5.0"
            ],
            "text/html": [
              "\n",
              "  <div id=\"df-e2a16325-850e-4208-b681-6289443ad500\">\n",
              "    <div class=\"colab-df-container\">\n",
              "      <div>\n",
              "<style scoped>\n",
              "    .dataframe tbody tr th:only-of-type {\n",
              "        vertical-align: middle;\n",
              "    }\n",
              "\n",
              "    .dataframe tbody tr th {\n",
              "        vertical-align: top;\n",
              "    }\n",
              "\n",
              "    .dataframe thead th {\n",
              "        text-align: right;\n",
              "    }\n",
              "</style>\n",
              "<table border=\"1\" class=\"dataframe\">\n",
              "  <thead>\n",
              "    <tr style=\"text-align: right;\">\n",
              "      <th></th>\n",
              "      <th>App</th>\n",
              "      <th>Category</th>\n",
              "      <th>Rating</th>\n",
              "    </tr>\n",
              "  </thead>\n",
              "  <tbody>\n",
              "    <tr>\n",
              "      <th>9056</th>\n",
              "      <td>Santa's Monster Shootout DX</td>\n",
              "      <td>Game</td>\n",
              "      <td>5.0</td>\n",
              "    </tr>\n",
              "    <tr>\n",
              "      <th>8395</th>\n",
              "      <td>DG TV</td>\n",
              "      <td>News_And_Magazines</td>\n",
              "      <td>5.0</td>\n",
              "    </tr>\n",
              "    <tr>\n",
              "      <th>8493</th>\n",
              "      <td>PK and DK Audio App</td>\n",
              "      <td>Family</td>\n",
              "      <td>5.0</td>\n",
              "    </tr>\n",
              "    <tr>\n",
              "      <th>6330</th>\n",
              "      <td>HON. B.J. ACS COLLEGE ALE</td>\n",
              "      <td>Family</td>\n",
              "      <td>5.0</td>\n",
              "    </tr>\n",
              "    <tr>\n",
              "      <th>6342</th>\n",
              "      <td>BJ Foods</td>\n",
              "      <td>Business</td>\n",
              "      <td>5.0</td>\n",
              "    </tr>\n",
              "    <tr>\n",
              "      <th>6363</th>\n",
              "      <td>Read it easy for BK</td>\n",
              "      <td>Lifestyle</td>\n",
              "      <td>5.0</td>\n",
              "    </tr>\n",
              "    <tr>\n",
              "      <th>9766</th>\n",
              "      <td>ER Assist</td>\n",
              "      <td>Productivity</td>\n",
              "      <td>5.0</td>\n",
              "    </tr>\n",
              "    <tr>\n",
              "      <th>6364</th>\n",
              "      <td>BK Video Status</td>\n",
              "      <td>Family</td>\n",
              "      <td>5.0</td>\n",
              "    </tr>\n",
              "    <tr>\n",
              "      <th>6372</th>\n",
              "      <td>BK Formula Calculator</td>\n",
              "      <td>Tools</td>\n",
              "      <td>5.0</td>\n",
              "    </tr>\n",
              "    <tr>\n",
              "      <th>6375</th>\n",
              "      <td>Dr Bk Sachin bhai</td>\n",
              "      <td>Lifestyle</td>\n",
              "      <td>5.0</td>\n",
              "    </tr>\n",
              "    <tr>\n",
              "      <th>9806</th>\n",
              "      <td>Dr. ES PV Calculator</td>\n",
              "      <td>Tools</td>\n",
              "      <td>5.0</td>\n",
              "    </tr>\n",
              "  </tbody>\n",
              "</table>\n",
              "</div>\n",
              "      <button class=\"colab-df-convert\" onclick=\"convertToInteractive('df-e2a16325-850e-4208-b681-6289443ad500')\"\n",
              "              title=\"Convert this dataframe to an interactive table.\"\n",
              "              style=\"display:none;\">\n",
              "        \n",
              "  <svg xmlns=\"http://www.w3.org/2000/svg\" height=\"24px\"viewBox=\"0 0 24 24\"\n",
              "       width=\"24px\">\n",
              "    <path d=\"M0 0h24v24H0V0z\" fill=\"none\"/>\n",
              "    <path d=\"M18.56 5.44l.94 2.06.94-2.06 2.06-.94-2.06-.94-.94-2.06-.94 2.06-2.06.94zm-11 1L8.5 8.5l.94-2.06 2.06-.94-2.06-.94L8.5 2.5l-.94 2.06-2.06.94zm10 10l.94 2.06.94-2.06 2.06-.94-2.06-.94-.94-2.06-.94 2.06-2.06.94z\"/><path d=\"M17.41 7.96l-1.37-1.37c-.4-.4-.92-.59-1.43-.59-.52 0-1.04.2-1.43.59L10.3 9.45l-7.72 7.72c-.78.78-.78 2.05 0 2.83L4 21.41c.39.39.9.59 1.41.59.51 0 1.02-.2 1.41-.59l7.78-7.78 2.81-2.81c.8-.78.8-2.07 0-2.86zM5.41 20L4 18.59l7.72-7.72 1.47 1.35L5.41 20z\"/>\n",
              "  </svg>\n",
              "      </button>\n",
              "      \n",
              "  <style>\n",
              "    .colab-df-container {\n",
              "      display:flex;\n",
              "      flex-wrap:wrap;\n",
              "      gap: 12px;\n",
              "    }\n",
              "\n",
              "    .colab-df-convert {\n",
              "      background-color: #E8F0FE;\n",
              "      border: none;\n",
              "      border-radius: 50%;\n",
              "      cursor: pointer;\n",
              "      display: none;\n",
              "      fill: #1967D2;\n",
              "      height: 32px;\n",
              "      padding: 0 0 0 0;\n",
              "      width: 32px;\n",
              "    }\n",
              "\n",
              "    .colab-df-convert:hover {\n",
              "      background-color: #E2EBFA;\n",
              "      box-shadow: 0px 1px 2px rgba(60, 64, 67, 0.3), 0px 1px 3px 1px rgba(60, 64, 67, 0.15);\n",
              "      fill: #174EA6;\n",
              "    }\n",
              "\n",
              "    [theme=dark] .colab-df-convert {\n",
              "      background-color: #3B4455;\n",
              "      fill: #D2E3FC;\n",
              "    }\n",
              "\n",
              "    [theme=dark] .colab-df-convert:hover {\n",
              "      background-color: #434B5C;\n",
              "      box-shadow: 0px 1px 3px 1px rgba(0, 0, 0, 0.15);\n",
              "      filter: drop-shadow(0px 1px 2px rgba(0, 0, 0, 0.3));\n",
              "      fill: #FFFFFF;\n",
              "    }\n",
              "  </style>\n",
              "\n",
              "      <script>\n",
              "        const buttonEl =\n",
              "          document.querySelector('#df-e2a16325-850e-4208-b681-6289443ad500 button.colab-df-convert');\n",
              "        buttonEl.style.display =\n",
              "          google.colab.kernel.accessAllowed ? 'block' : 'none';\n",
              "\n",
              "        async function convertToInteractive(key) {\n",
              "          const element = document.querySelector('#df-e2a16325-850e-4208-b681-6289443ad500');\n",
              "          const dataTable =\n",
              "            await google.colab.kernel.invokeFunction('convertToInteractive',\n",
              "                                                     [key], {});\n",
              "          if (!dataTable) return;\n",
              "\n",
              "          const docLinkHtml = 'Like what you see? Visit the ' +\n",
              "            '<a target=\"_blank\" href=https://colab.research.google.com/notebooks/data_table.ipynb>data table notebook</a>'\n",
              "            + ' to learn more about interactive tables.';\n",
              "          element.innerHTML = '';\n",
              "          dataTable['output_type'] = 'display_data';\n",
              "          await google.colab.output.renderOutput(dataTable, element);\n",
              "          const docLink = document.createElement('div');\n",
              "          docLink.innerHTML = docLinkHtml;\n",
              "          element.appendChild(docLink);\n",
              "        }\n",
              "      </script>\n",
              "    </div>\n",
              "  </div>\n",
              "  "
            ]
          },
          "metadata": {},
          "execution_count": 52
        }
      ]
    },
    {
      "cell_type": "markdown",
      "source": [
        "#**Number of Application in terms of Category**#"
      ],
      "metadata": {
        "id": "aqkmSKlTKvSZ"
      }
    },
    {
      "cell_type": "code",
      "source": [
        "sns.set_style('darkgrid')\n",
        "plt.figure(figsize=(15, 8))\n",
        "sns.countplot(x='Category', data=df)\n",
        "plt.title('Number of Apps Per Category')\n",
        "plt.xticks(rotation=80)\n",
        "plt.ylabel('Number of Apps')\n",
        "plt.show()"
      ],
      "metadata": {
        "colab": {
          "base_uri": "https://localhost:8080/",
          "height": 613
        },
        "id": "8nXFoOUrKuNA",
        "outputId": "776cc67d-dfb7-4aa7-de54-0b0b52b0d57f"
      },
      "execution_count": null,
      "outputs": [
        {
          "output_type": "display_data",
          "data": {
            "text/plain": [
              "<Figure size 1080x576 with 1 Axes>"
            ],
            "image/png": "[encoded data removed]"
          },
          "metadata": {}
        }
      ]
    },
    {
      "cell_type": "markdown",
      "source": [
        "#**Top 10 apps which  has more downloads**#"
      ],
      "metadata": {
        "id": "eMypKmVpO_T5"
      }
    },
    {
      "cell_type": "code",
      "source": [
        "bm = df.sort_values('Installs',ascending=False)\n",
        "More_downloads_App= bm.loc[:,['App','Installs']]\n",
        "More_downloads_App.head(11)"
      ],
      "metadata": {
        "colab": {
          "base_uri": "https://localhost:8080/",
          "height": 394
        },
        "id": "X-TzWGevOojo",
        "outputId": "a71b8726-3693-4160-acbf-f72fbf4f980d"
      },
      "execution_count": null,
      "outputs": [
        {
          "output_type": "execute_result",
          "data": {
            "text/plain": [
              "                                           App      Installs\n",
              "3896                            Subway Surfers  1.000000e+09\n",
              "3943                                  Facebook  1.000000e+09\n",
              "335   Messenger – Text and Video Chat for Free  1.000000e+09\n",
              "3523                              Google Drive  1.000000e+09\n",
              "3565                              Google Drive  1.000000e+09\n",
              "2884                             Google Photos  1.000000e+09\n",
              "3665                                   YouTube  1.000000e+09\n",
              "2853                             Google Photos  1.000000e+09\n",
              "4234             Skype - free IM & video calls  1.000000e+09\n",
              "3687                   Google Play Movies & TV  1.000000e+09\n",
              "2808                             Google Photos  1.000000e+09"
            ],
            "text/html": [
              "\n",
              "  <div id=\"df-5adb0d89-3279-445b-9924-90d36174209d\">\n",
              "    <div class=\"colab-df-container\">\n",
              "      <div>\n",
              "<style scoped>\n",
              "    .dataframe tbody tr th:only-of-type {\n",
              "        vertical-align: middle;\n",
              "    }\n",
              "\n",
              "    .dataframe tbody tr th {\n",
              "        vertical-align: top;\n",
              "    }\n",
              "\n",
              "    .dataframe thead th {\n",
              "        text-align: right;\n",
              "    }\n",
              "</style>\n",
              "<table border=\"1\" class=\"dataframe\">\n",
              "  <thead>\n",
              "    <tr style=\"text-align: right;\">\n",
              "      <th></th>\n",
              "      <th>App</th>\n",
              "      <th>Installs</th>\n",
              "    </tr>\n",
              "  </thead>\n",
              "  <tbody>\n",
              "    <tr>\n",
              "      <th>3896</th>\n",
              "      <td>Subway Surfers</td>\n",
              "      <td>1.000000e+09</td>\n",
              "    </tr>\n",
              "    <tr>\n",
              "      <th>3943</th>\n",
              "      <td>Facebook</td>\n",
              "      <td>1.000000e+09</td>\n",
              "    </tr>\n",
              "    <tr>\n",
              "      <th>335</th>\n",
              "      <td>Messenger – Text and Video Chat for Free</td>\n",
              "      <td>1.000000e+09</td>\n",
              "    </tr>\n",
              "    <tr>\n",
              "      <th>3523</th>\n",
              "      <td>Google Drive</td>\n",
              "      <td>1.000000e+09</td>\n",
              "    </tr>\n",
              "    <tr>\n",
              "      <th>3565</th>\n",
              "      <td>Google Drive</td>\n",
              "      <td>1.000000e+09</td>\n",
              "    </tr>\n",
              "    <tr>\n",
              "      <th>2884</th>\n",
              "      <td>Google Photos</td>\n",
              "      <td>1.000000e+09</td>\n",
              "    </tr>\n",
              "    <tr>\n",
              "      <th>3665</th>\n",
              "      <td>YouTube</td>\n",
              "      <td>1.000000e+09</td>\n",
              "    </tr>\n",
              "    <tr>\n",
              "      <th>2853</th>\n",
              "      <td>Google Photos</td>\n",
              "      <td>1.000000e+09</td>\n",
              "    </tr>\n",
              "    <tr>\n",
              "      <th>4234</th>\n",
              "      <td>Skype - free IM &amp; video calls</td>\n",
              "      <td>1.000000e+09</td>\n",
              "    </tr>\n",
              "    <tr>\n",
              "      <th>3687</th>\n",
              "      <td>Google Play Movies &amp; TV</td>\n",
              "      <td>1.000000e+09</td>\n",
              "    </tr>\n",
              "    <tr>\n",
              "      <th>2808</th>\n",
              "      <td>Google Photos</td>\n",
              "      <td>1.000000e+09</td>\n",
              "    </tr>\n",
              "  </tbody>\n",
              "</table>\n",
              "</div>\n",
              "      <button class=\"colab-df-convert\" onclick=\"convertToInteractive('df-5adb0d89-3279-445b-9924-90d36174209d')\"\n",
              "              title=\"Convert this dataframe to an interactive table.\"\n",
              "              style=\"display:none;\">\n",
              "        \n",
              "  <svg xmlns=\"http://www.w3.org/2000/svg\" height=\"24px\"viewBox=\"0 0 24 24\"\n",
              "       width=\"24px\">\n",
              "    <path d=\"M0 0h24v24H0V0z\" fill=\"none\"/>\n",
              "    <path d=\"M18.56 5.44l.94 2.06.94-2.06 2.06-.94-2.06-.94-.94-2.06-.94 2.06-2.06.94zm-11 1L8.5 8.5l.94-2.06 2.06-.94-2.06-.94L8.5 2.5l-.94 2.06-2.06.94zm10 10l.94 2.06.94-2.06 2.06-.94-2.06-.94-.94-2.06-.94 2.06-2.06.94z\"/><path d=\"M17.41 7.96l-1.37-1.37c-.4-.4-.92-.59-1.43-.59-.52 0-1.04.2-1.43.59L10.3 9.45l-7.72 7.72c-.78.78-.78 2.05 0 2.83L4 21.41c.39.39.9.59 1.41.59.51 0 1.02-.2 1.41-.59l7.78-7.78 2.81-2.81c.8-.78.8-2.07 0-2.86zM5.41 20L4 18.59l7.72-7.72 1.47 1.35L5.41 20z\"/>\n",
              "  </svg>\n",
              "      </button>\n",
              "      \n",
              "  <style>\n",
              "    .colab-df-container {\n",
              "      display:flex;\n",
              "      flex-wrap:wrap;\n",
              "      gap: 12px;\n",
              "    }\n",
              "\n",
              "    .colab-df-convert {\n",
              "      background-color: #E8F0FE;\n",
              "      border: none;\n",
              "      border-radius: 50%;\n",
              "      cursor: pointer;\n",
              "      display: none;\n",
              "      fill: #1967D2;\n",
              "      height: 32px;\n",
              "      padding: 0 0 0 0;\n",
              "      width: 32px;\n",
              "    }\n",
              "\n",
              "    .colab-df-convert:hover {\n",
              "      background-color: #E2EBFA;\n",
              "      box-shadow: 0px 1px 2px rgba(60, 64, 67, 0.3), 0px 1px 3px 1px rgba(60, 64, 67, 0.15);\n",
              "      fill: #174EA6;\n",
              "    }\n",
              "\n",
              "    [theme=dark] .colab-df-convert {\n",
              "      background-color: #3B4455;\n",
              "      fill: #D2E3FC;\n",
              "    }\n",
              "\n",
              "    [theme=dark] .colab-df-convert:hover {\n",
              "      background-color: #434B5C;\n",
              "      box-shadow: 0px 1px 3px 1px rgba(0, 0, 0, 0.15);\n",
              "      filter: drop-shadow(0px 1px 2px rgba(0, 0, 0, 0.3));\n",
              "      fill: #FFFFFF;\n",
              "    }\n",
              "  </style>\n",
              "\n",
              "      <script>\n",
              "        const buttonEl =\n",
              "          document.querySelector('#df-5adb0d89-3279-445b-9924-90d36174209d button.colab-df-convert');\n",
              "        buttonEl.style.display =\n",
              "          google.colab.kernel.accessAllowed ? 'block' : 'none';\n",
              "\n",
              "        async function convertToInteractive(key) {\n",
              "          const element = document.querySelector('#df-5adb0d89-3279-445b-9924-90d36174209d');\n",
              "          const dataTable =\n",
              "            await google.colab.kernel.invokeFunction('convertToInteractive',\n",
              "                                                     [key], {});\n",
              "          if (!dataTable) return;\n",
              "\n",
              "          const docLinkHtml = 'Like what you see? Visit the ' +\n",
              "            '<a target=\"_blank\" href=https://colab.research.google.com/notebooks/data_table.ipynb>data table notebook</a>'\n",
              "            + ' to learn more about interactive tables.';\n",
              "          element.innerHTML = '';\n",
              "          dataTable['output_type'] = 'display_data';\n",
              "          await google.colab.output.renderOutput(dataTable, element);\n",
              "          const docLink = document.createElement('div');\n",
              "          docLink.innerHTML = docLinkHtml;\n",
              "          element.appendChild(docLink);\n",
              "        }\n",
              "      </script>\n",
              "    </div>\n",
              "  </div>\n",
              "  "
            ]
          },
          "metadata": {},
          "execution_count": 54
        }
      ]
    },
    {
      "cell_type": "markdown",
      "source": [
        "#**Which 10 apps from the 'FAMILY' category are having the lowest rating and highest rating**#"
      ],
      "metadata": {
        "id": "kPJk5dY9PvsZ"
      }
    },
    {
      "cell_type": "markdown",
      "source": [
        "**lowest rating**"
      ],
      "metadata": {
        "id": "cBKq4VQKP4nY"
      }
    },
    {
      "cell_type": "code",
      "source": [
        "ab = df[df['Category'] == 'Family']\n",
        "bv = ab.sort_values(by=['Rating'], ascending=True)\n",
        "\n",
        "Family_lowest_rating= bv.loc[:,['Category','Rating']]\n",
        "Family_lowest_rating.head(11)\n"
      ],
      "metadata": {
        "colab": {
          "base_uri": "https://localhost:8080/",
          "height": 394
        },
        "id": "NTwcZnfqPy7f",
        "outputId": "46c02033-3f3c-48ec-9dd3-478ad709ec88"
      },
      "execution_count": null,
      "outputs": [
        {
          "output_type": "execute_result",
          "data": {
            "text/plain": [
              "      Category  Rating\n",
              "5978    Family     1.0\n",
              "10324   Family     1.0\n",
              "4127    Family     1.0\n",
              "4905    Family     1.6\n",
              "6135    Family     1.7\n",
              "9176    Family     1.7\n",
              "6812    Family     1.8\n",
              "4904    Family     1.8\n",
              "9890    Family     1.9\n",
              "7416    Family     1.9\n",
              "6532    Family     1.9"
            ],
            "text/html": [
              "\n",
              "  <div id=\"df-125e492c-186b-40fd-82e3-be635dfa3aef\">\n",
              "    <div class=\"colab-df-container\">\n",
              "      <div>\n",
              "<style scoped>\n",
              "    .dataframe tbody tr th:only-of-type {\n",
              "        vertical-align: middle;\n",
              "    }\n",
              "\n",
              "    .dataframe tbody tr th {\n",
              "        vertical-align: top;\n",
              "    }\n",
              "\n",
              "    .dataframe thead th {\n",
              "        text-align: right;\n",
              "    }\n",
              "</style>\n",
              "<table border=\"1\" class=\"dataframe\">\n",
              "  <thead>\n",
              "    <tr style=\"text-align: right;\">\n",
              "      <th></th>\n",
              "      <th>Category</th>\n",
              "      <th>Rating</th>\n",
              "    </tr>\n",
              "  </thead>\n",
              "  <tbody>\n",
              "    <tr>\n",
              "      <th>5978</th>\n",
              "      <td>Family</td>\n",
              "      <td>1.0</td>\n",
              "    </tr>\n",
              "    <tr>\n",
              "      <th>10324</th>\n",
              "      <td>Family</td>\n",
              "      <td>1.0</td>\n",
              "    </tr>\n",
              "    <tr>\n",
              "      <th>4127</th>\n",
              "      <td>Family</td>\n",
              "      <td>1.0</td>\n",
              "    </tr>\n",
              "    <tr>\n",
              "      <th>4905</th>\n",
              "      <td>Family</td>\n",
              "      <td>1.6</td>\n",
              "    </tr>\n",
              "    <tr>\n",
              "      <th>6135</th>\n",
              "      <td>Family</td>\n",
              "      <td>1.7</td>\n",
              "    </tr>\n",
              "    <tr>\n",
              "      <th>9176</th>\n",
              "      <td>Family</td>\n",
              "      <td>1.7</td>\n",
              "    </tr>\n",
              "    <tr>\n",
              "      <th>6812</th>\n",
              "      <td>Family</td>\n",
              "      <td>1.8</td>\n",
              "    </tr>\n",
              "    <tr>\n",
              "      <th>4904</th>\n",
              "      <td>Family</td>\n",
              "      <td>1.8</td>\n",
              "    </tr>\n",
              "    <tr>\n",
              "      <th>9890</th>\n",
              "      <td>Family</td>\n",
              "      <td>1.9</td>\n",
              "    </tr>\n",
              "    <tr>\n",
              "      <th>7416</th>\n",
              "      <td>Family</td>\n",
              "      <td>1.9</td>\n",
              "    </tr>\n",
              "    <tr>\n",
              "      <th>6532</th>\n",
              "      <td>Family</td>\n",
              "      <td>1.9</td>\n",
              "    </tr>\n",
              "  </tbody>\n",
              "</table>\n",
              "</div>\n",
              "      <button class=\"colab-df-convert\" onclick=\"convertToInteractive('df-125e492c-186b-40fd-82e3-be635dfa3aef')\"\n",
              "              title=\"Convert this dataframe to an interactive table.\"\n",
              "              style=\"display:none;\">\n",
              "        \n",
              "  <svg xmlns=\"http://www.w3.org/2000/svg\" height=\"24px\"viewBox=\"0 0 24 24\"\n",
              "       width=\"24px\">\n",
              "    <path d=\"M0 0h24v24H0V0z\" fill=\"none\"/>\n",
              "    <path d=\"M18.56 5.44l.94 2.06.94-2.06 2.06-.94-2.06-.94-.94-2.06-.94 2.06-2.06.94zm-11 1L8.5 8.5l.94-2.06 2.06-.94-2.06-.94L8.5 2.5l-.94 2.06-2.06.94zm10 10l.94 2.06.94-2.06 2.06-.94-2.06-.94-.94-2.06-.94 2.06-2.06.94z\"/><path d=\"M17.41 7.96l-1.37-1.37c-.4-.4-.92-.59-1.43-.59-.52 0-1.04.2-1.43.59L10.3 9.45l-7.72 7.72c-.78.78-.78 2.05 0 2.83L4 21.41c.39.39.9.59 1.41.59.51 0 1.02-.2 1.41-.59l7.78-7.78 2.81-2.81c.8-.78.8-2.07 0-2.86zM5.41 20L4 18.59l7.72-7.72 1.47 1.35L5.41 20z\"/>\n",
              "  </svg>\n",
              "      </button>\n",
              "      \n",
              "  <style>\n",
              "    .colab-df-container {\n",
              "      display:flex;\n",
              "      flex-wrap:wrap;\n",
              "      gap: 12px;\n",
              "    }\n",
              "\n",
              "    .colab-df-convert {\n",
              "      background-color: #E8F0FE;\n",
              "      border: none;\n",
              "      border-radius: 50%;\n",
              "      cursor: pointer;\n",
              "      display: none;\n",
              "      fill: #1967D2;\n",
              "      height: 32px;\n",
              "      padding: 0 0 0 0;\n",
              "      width: 32px;\n",
              "    }\n",
              "\n",
              "    .colab-df-convert:hover {\n",
              "      background-color: #E2EBFA;\n",
              "      box-shadow: 0px 1px 2px rgba(60, 64, 67, 0.3), 0px 1px 3px 1px rgba(60, 64, 67, 0.15);\n",
              "      fill: #174EA6;\n",
              "    }\n",
              "\n",
              "    [theme=dark] .colab-df-convert {\n",
              "      background-color: #3B4455;\n",
              "      fill: #D2E3FC;\n",
              "    }\n",
              "\n",
              "    [theme=dark] .colab-df-convert:hover {\n",
              "      background-color: #434B5C;\n",
              "      box-shadow: 0px 1px 3px 1px rgba(0, 0, 0, 0.15);\n",
              "      filter: drop-shadow(0px 1px 2px rgba(0, 0, 0, 0.3));\n",
              "      fill: #FFFFFF;\n",
              "    }\n",
              "  </style>\n",
              "\n",
              "      <script>\n",
              "        const buttonEl =\n",
              "          document.querySelector('#df-125e492c-186b-40fd-82e3-be635dfa3aef button.colab-df-convert');\n",
              "        buttonEl.style.display =\n",
              "          google.colab.kernel.accessAllowed ? 'block' : 'none';\n",
              "\n",
              "        async function convertToInteractive(key) {\n",
              "          const element = document.querySelector('#df-125e492c-186b-40fd-82e3-be635dfa3aef');\n",
              "          const dataTable =\n",
              "            await google.colab.kernel.invokeFunction('convertToInteractive',\n",
              "                                                     [key], {});\n",
              "          if (!dataTable) return;\n",
              "\n",
              "          const docLinkHtml = 'Like what you see? Visit the ' +\n",
              "            '<a target=\"_blank\" href=https://colab.research.google.com/notebooks/data_table.ipynb>data table notebook</a>'\n",
              "            + ' to learn more about interactive tables.';\n",
              "          element.innerHTML = '';\n",
              "          dataTable['output_type'] = 'display_data';\n",
              "          await google.colab.output.renderOutput(dataTable, element);\n",
              "          const docLink = document.createElement('div');\n",
              "          docLink.innerHTML = docLinkHtml;\n",
              "          element.appendChild(docLink);\n",
              "        }\n",
              "      </script>\n",
              "    </div>\n",
              "  </div>\n",
              "  "
            ]
          },
          "metadata": {},
          "execution_count": 55
        }
      ]
    },
    {
      "cell_type": "markdown",
      "source": [
        "**Highest rating**"
      ],
      "metadata": {
        "id": "UNGX0V1dP9F4"
      }
    },
    {
      "cell_type": "code",
      "source": [
        "hi = df[df['Category'] == 'Family']\n",
        "hig = hi.sort_values(by=['Rating'], ascending=False)\n",
        "\n",
        "Family_highest_rating = hig.loc[:,['Category','Rating']]\n",
        "Family_highest_rating.head(11)"
      ],
      "metadata": {
        "colab": {
          "base_uri": "https://localhost:8080/",
          "height": 394
        },
        "id": "M32rsn2bQAY-",
        "outputId": "0c92212a-cd1a-4a6a-8dc6-4d551c6084b1"
      },
      "execution_count": null,
      "outputs": [
        {
          "output_type": "execute_result",
          "data": {
            "text/plain": [
              "      Category  Rating\n",
              "10837   Family     5.0\n",
              "9531    Family     5.0\n",
              "7320    Family     5.0\n",
              "7307    Family     5.0\n",
              "7239    Family     5.0\n",
              "5246    Family     5.0\n",
              "9496    Family     5.0\n",
              "9503    Family     5.0\n",
              "7212    Family     5.0\n",
              "7204    Family     5.0\n",
              "9511    Family     5.0"
            ],
            "text/html": [
              "\n",
              "  <div id=\"df-1315f3c4-f60c-4866-8c4e-18408064548e\">\n",
              "    <div class=\"colab-df-container\">\n",
              "      <div>\n",
              "<style scoped>\n",
              "    .dataframe tbody tr th:only-of-type {\n",
              "        vertical-align: middle;\n",
              "    }\n",
              "\n",
              "    .dataframe tbody tr th {\n",
              "        vertical-align: top;\n",
              "    }\n",
              "\n",
              "    .dataframe thead th {\n",
              "        text-align: right;\n",
              "    }\n",
              "</style>\n",
              "<table border=\"1\" class=\"dataframe\">\n",
              "  <thead>\n",
              "    <tr style=\"text-align: right;\">\n",
              "      <th></th>\n",
              "      <th>Category</th>\n",
              "      <th>Rating</th>\n",
              "    </tr>\n",
              "  </thead>\n",
              "  <tbody>\n",
              "    <tr>\n",
              "      <th>10837</th>\n",
              "      <td>Family</td>\n",
              "      <td>5.0</td>\n",
              "    </tr>\n",
              "    <tr>\n",
              "      <th>9531</th>\n",
              "      <td>Family</td>\n",
              "      <td>5.0</td>\n",
              "    </tr>\n",
              "    <tr>\n",
              "      <th>7320</th>\n",
              "      <td>Family</td>\n",
              "      <td>5.0</td>\n",
              "    </tr>\n",
              "    <tr>\n",
              "      <th>7307</th>\n",
              "      <td>Family</td>\n",
              "      <td>5.0</td>\n",
              "    </tr>\n",
              "    <tr>\n",
              "      <th>7239</th>\n",
              "      <td>Family</td>\n",
              "      <td>5.0</td>\n",
              "    </tr>\n",
              "    <tr>\n",
              "      <th>5246</th>\n",
              "      <td>Family</td>\n",
              "      <td>5.0</td>\n",
              "    </tr>\n",
              "    <tr>\n",
              "      <th>9496</th>\n",
              "      <td>Family</td>\n",
              "      <td>5.0</td>\n",
              "    </tr>\n",
              "    <tr>\n",
              "      <th>9503</th>\n",
              "      <td>Family</td>\n",
              "      <td>5.0</td>\n",
              "    </tr>\n",
              "    <tr>\n",
              "      <th>7212</th>\n",
              "      <td>Family</td>\n",
              "      <td>5.0</td>\n",
              "    </tr>\n",
              "    <tr>\n",
              "      <th>7204</th>\n",
              "      <td>Family</td>\n",
              "      <td>5.0</td>\n",
              "    </tr>\n",
              "    <tr>\n",
              "      <th>9511</th>\n",
              "      <td>Family</td>\n",
              "      <td>5.0</td>\n",
              "    </tr>\n",
              "  </tbody>\n",
              "</table>\n",
              "</div>\n",
              "      <button class=\"colab-df-convert\" onclick=\"convertToInteractive('df-1315f3c4-f60c-4866-8c4e-18408064548e')\"\n",
              "              title=\"Convert this dataframe to an interactive table.\"\n",
              "              style=\"display:none;\">\n",
              "        \n",
              "  <svg xmlns=\"http://www.w3.org/2000/svg\" height=\"24px\"viewBox=\"0 0 24 24\"\n",
              "       width=\"24px\">\n",
              "    <path d=\"M0 0h24v24H0V0z\" fill=\"none\"/>\n",
              "    <path d=\"M18.56 5.44l.94 2.06.94-2.06 2.06-.94-2.06-.94-.94-2.06-.94 2.06-2.06.94zm-11 1L8.5 8.5l.94-2.06 2.06-.94-2.06-.94L8.5 2.5l-.94 2.06-2.06.94zm10 10l.94 2.06.94-2.06 2.06-.94-2.06-.94-.94-2.06-.94 2.06-2.06.94z\"/><path d=\"M17.41 7.96l-1.37-1.37c-.4-.4-.92-.59-1.43-.59-.52 0-1.04.2-1.43.59L10.3 9.45l-7.72 7.72c-.78.78-.78 2.05 0 2.83L4 21.41c.39.39.9.59 1.41.59.51 0 1.02-.2 1.41-.59l7.78-7.78 2.81-2.81c.8-.78.8-2.07 0-2.86zM5.41 20L4 18.59l7.72-7.72 1.47 1.35L5.41 20z\"/>\n",
              "  </svg>\n",
              "      </button>\n",
              "      \n",
              "  <style>\n",
              "    .colab-df-container {\n",
              "      display:flex;\n",
              "      flex-wrap:wrap;\n",
              "      gap: 12px;\n",
              "    }\n",
              "\n",
              "    .colab-df-convert {\n",
              "      background-color: #E8F0FE;\n",
              "      border: none;\n",
              "      border-radius: 50%;\n",
              "      cursor: pointer;\n",
              "      display: none;\n",
              "      fill: #1967D2;\n",
              "      height: 32px;\n",
              "      padding: 0 0 0 0;\n",
              "      width: 32px;\n",
              "    }\n",
              "\n",
              "    .colab-df-convert:hover {\n",
              "      background-color: #E2EBFA;\n",
              "      box-shadow: 0px 1px 2px rgba(60, 64, 67, 0.3), 0px 1px 3px 1px rgba(60, 64, 67, 0.15);\n",
              "      fill: #174EA6;\n",
              "    }\n",
              "\n",
              "    [theme=dark] .colab-df-convert {\n",
              "      background-color: #3B4455;\n",
              "      fill: #D2E3FC;\n",
              "    }\n",
              "\n",
              "    [theme=dark] .colab-df-convert:hover {\n",
              "      background-color: #434B5C;\n",
              "      box-shadow: 0px 1px 3px 1px rgba(0, 0, 0, 0.15);\n",
              "      filter: drop-shadow(0px 1px 2px rgba(0, 0, 0, 0.3));\n",
              "      fill: #FFFFFF;\n",
              "    }\n",
              "  </style>\n",
              "\n",
              "      <script>\n",
              "        const buttonEl =\n",
              "          document.querySelector('#df-1315f3c4-f60c-4866-8c4e-18408064548e button.colab-df-convert');\n",
              "        buttonEl.style.display =\n",
              "          google.colab.kernel.accessAllowed ? 'block' : 'none';\n",
              "\n",
              "        async function convertToInteractive(key) {\n",
              "          const element = document.querySelector('#df-1315f3c4-f60c-4866-8c4e-18408064548e');\n",
              "          const dataTable =\n",
              "            await google.colab.kernel.invokeFunction('convertToInteractive',\n",
              "                                                     [key], {});\n",
              "          if (!dataTable) return;\n",
              "\n",
              "          const docLinkHtml = 'Like what you see? Visit the ' +\n",
              "            '<a target=\"_blank\" href=https://colab.research.google.com/notebooks/data_table.ipynb>data table notebook</a>'\n",
              "            + ' to learn more about interactive tables.';\n",
              "          element.innerHTML = '';\n",
              "          dataTable['output_type'] = 'display_data';\n",
              "          await google.colab.output.renderOutput(dataTable, element);\n",
              "          const docLink = document.createElement('div');\n",
              "          docLink.innerHTML = docLinkHtml;\n",
              "          element.appendChild(docLink);\n",
              "        }\n",
              "      </script>\n",
              "    </div>\n",
              "  </div>\n",
              "  "
            ]
          },
          "metadata": {},
          "execution_count": 56
        }
      ]
    },
    {
      "cell_type": "markdown",
      "source": [
        "#**FREE AND PAID APPS**#"
      ],
      "metadata": {
        "id": "bzep3oiZRAt6"
      }
    },
    {
      "cell_type": "code",
      "source": [
        "plt.figure(figsize=(10, 5))\n",
        "sns.countplot(df['Type'])\n",
        "plt.title('Type Distribution')\n",
        "plt.ylabel('Number of Apps')\n",
        "plt.show()"
      ],
      "metadata": {
        "colab": {
          "base_uri": "https://localhost:8080/"
        },
        "id": "VHB0Ay0eQ_4f",
        "outputId": "8afd4cc3-d508-4a8f-f3e5-091af4dccf36"
      },
      "execution_count": null,
      "outputs": [
        {
          "output_type": "stream",
          "name": "stderr",
          "text": [
            "/usr/local/lib/python3.8/dist-packages/seaborn/_decorators.py:36: FutureWarning: Pass the following variable as a keyword arg: x. From version 0.12, the only valid positional argument will be `data`, and passing other arguments without an explicit keyword will result in an error or misinterpretation.\n",
            "  warnings.warn(\n"
          ]
        },
        {
          "output_type": "display_data",
          "data": {
            "text/plain": [
              "<Figure size 720x360 with 1 Axes>"
            ],
            "image/png": "[encoded data removed]"
          },
          "metadata": {}
        }
      ]
    },
    {
      "cell_type": "markdown",
      "source": [
        "#**Relation between app category and app price**#"
      ],
      "metadata": {
        "id": "CKAUNrfnRNf4"
      }
    },
    {
      "cell_type": "code",
      "source": [
        "fig, ax = plt.subplots()\n",
        "fig.set_size_inches(15, 8)\n",
        "\n",
        "popular_app_cats = df[df.Category.isin(['Game', 'Family', 'Photography',\n",
        "                                            'Medical', 'Tools', 'Finance',\n",
        "                                            'Lifestyle','Business'])]\n",
        "\n",
        "ax = sns.stripplot(x = popular_app_cats[\"Price\"], y = popular_app_cats[\"Category\"], jitter=True, linewidth=1)\n",
        "ax.set_title('App pricing trend across categories')"
      ],
      "metadata": {
        "colab": {
          "base_uri": "https://localhost:8080/"
        },
        "id": "czy2_kvnRLhn",
        "outputId": "7de15e79-abbc-4f48-e89c-76fac2a6eaaa"
      },
      "execution_count": null,
      "outputs": [
        {
          "output_type": "execute_result",
          "data": {
            "text/plain": [
              "Text(0.5, 1.0, 'App pricing trend across categories')"
            ]
          },
          "metadata": {},
          "execution_count": 58
        },
        {
          "output_type": "display_data",
          "data": {
            "text/plain": [
              "<Figure size 1080x576 with 1 Axes>"
            ],
            "image/png": "[encoded data removed]"
          },
          "metadata": {}
        }
      ]
    },
    {
      "cell_type": "markdown",
      "source": [
        "#**Sentiment analysis of user reviews**#"
      ],
      "metadata": {
        "id": "ZaZnz1iER4Oi"
      }
    },
    {
      "cell_type": "code",
      "source": [
        "merged_df = pd.merge(df, df2, on = \"App\")\n",
        "\n",
        "\n",
        "\n",
        "merged_df.head(3)"
      ],
      "metadata": {
        "colab": {
          "base_uri": "https://localhost:8080/",
          "height": 329
        },
        "id": "2w45EM5wRtBP",
        "outputId": "fdfdb4a7-5dd8-43a2-9aa8-d1b7ed9314ca"
      },
      "execution_count": null,
      "outputs": [
        {
          "output_type": "execute_result",
          "data": {
            "text/plain": [
              "                   App        Category  Rating  Reviews  Size  Installs  Type  \\\n",
              "0  Coloring book moana  Art_And_Design     3.9    967.0  14.0  500000.0  Free   \n",
              "1  Coloring book moana  Art_And_Design     3.9    967.0  14.0  500000.0  Free   \n",
              "2  Coloring book moana  Art_And_Design     3.9    967.0  14.0  500000.0  Free   \n",
              "\n",
              "   Price Content Rating                     Genres      Last Updated  \\\n",
              "0    0.0       Everyone  Art & Design;Pretend Play  January 15, 2018   \n",
              "1    0.0       Everyone  Art & Design;Pretend Play  January 15, 2018   \n",
              "2    0.0       Everyone  Art & Design;Pretend Play  January 15, 2018   \n",
              "\n",
              "  Current Ver   Android Ver  \\\n",
              "0       2.0.0  4.0.3 and up   \n",
              "1       2.0.0  4.0.3 and up   \n",
              "2       2.0.0  4.0.3 and up   \n",
              "\n",
              "                                   Translated_Review Sentiment  \\\n",
              "0  A kid's excessive ads. The types ads allowed a...  Negative   \n",
              "1                                         It bad >:(  Negative   \n",
              "2                                               like   Neutral   \n",
              "\n",
              "   Sentiment_Polarity  Sentiment_Subjectivity  \n",
              "0              -0.250                1.000000  \n",
              "1              -0.725                0.833333  \n",
              "2               0.000                0.000000  "
            ],
            "text/html": [
              "\n",
              "  <div id=\"df-f3e860f1-f017-488f-a479-784ac21623ed\">\n",
              "    <div class=\"colab-df-container\">\n",
              "      <div>\n",
              "<style scoped>\n",
              "    .dataframe tbody tr th:only-of-type {\n",
              "        vertical-align: middle;\n",
              "    }\n",
              "\n",
              "    .dataframe tbody tr th {\n",
              "        vertical-align: top;\n",
              "    }\n",
              "\n",
              "    .dataframe thead th {\n",
              "        text-align: right;\n",
              "    }\n",
              "</style>\n",
              "<table border=\"1\" class=\"dataframe\">\n",
              "  <thead>\n",
              "    <tr style=\"text-align: right;\">\n",
              "      <th></th>\n",
              "      <th>App</th>\n",
              "      <th>Category</th>\n",
              "      <th>Rating</th>\n",
              "      <th>Reviews</th>\n",
              "      <th>Size</th>\n",
              "      <th>Installs</th>\n",
              "      <th>Type</th>\n",
              "      <th>Price</th>\n",
              "      <th>Content Rating</th>\n",
              "      <th>Genres</th>\n",
              "      <th>Last Updated</th>\n",
              "      <th>Current Ver</th>\n",
              "      <th>Android Ver</th>\n",
              "      <th>Translated_Review</th>\n",
              "      <th>Sentiment</th>\n",
              "      <th>Sentiment_Polarity</th>\n",
              "      <th>Sentiment_Subjectivity</th>\n",
              "    </tr>\n",
              "  </thead>\n",
              "  <tbody>\n",
              "    <tr>\n",
              "      <th>0</th>\n",
              "      <td>Coloring book moana</td>\n",
              "      <td>Art_And_Design</td>\n",
              "      <td>3.9</td>\n",
              "      <td>967.0</td>\n",
              "      <td>14.0</td>\n",
              "      <td>500000.0</td>\n",
              "      <td>Free</td>\n",
              "      <td>0.0</td>\n",
              "      <td>Everyone</td>\n",
              "      <td>Art &amp; Design;Pretend Play</td>\n",
              "      <td>January 15, 2018</td>\n",
              "      <td>2.0.0</td>\n",
              "      <td>4.0.3 and up</td>\n",
              "      <td>A kid's excessive ads. The types ads allowed a...</td>\n",
              "      <td>Negative</td>\n",
              "      <td>-0.250</td>\n",
              "      <td>1.000000</td>\n",
              "    </tr>\n",
              "    <tr>\n",
              "      <th>1</th>\n",
              "      <td>Coloring book moana</td>\n",
              "      <td>Art_And_Design</td>\n",
              "      <td>3.9</td>\n",
              "      <td>967.0</td>\n",
              "      <td>14.0</td>\n",
              "      <td>500000.0</td>\n",
              "      <td>Free</td>\n",
              "      <td>0.0</td>\n",
              "      <td>Everyone</td>\n",
              "      <td>Art &amp; Design;Pretend Play</td>\n",
              "      <td>January 15, 2018</td>\n",
              "      <td>2.0.0</td>\n",
              "      <td>4.0.3 and up</td>\n",
              "      <td>It bad &gt;:(</td>\n",
              "      <td>Negative</td>\n",
              "      <td>-0.725</td>\n",
              "      <td>0.833333</td>\n",
              "    </tr>\n",
              "    <tr>\n",
              "      <th>2</th>\n",
              "      <td>Coloring book moana</td>\n",
              "      <td>Art_And_Design</td>\n",
              "      <td>3.9</td>\n",
              "      <td>967.0</td>\n",
              "      <td>14.0</td>\n",
              "      <td>500000.0</td>\n",
              "      <td>Free</td>\n",
              "      <td>0.0</td>\n",
              "      <td>Everyone</td>\n",
              "      <td>Art &amp; Design;Pretend Play</td>\n",
              "      <td>January 15, 2018</td>\n",
              "      <td>2.0.0</td>\n",
              "      <td>4.0.3 and up</td>\n",
              "      <td>like</td>\n",
              "      <td>Neutral</td>\n",
              "      <td>0.000</td>\n",
              "      <td>0.000000</td>\n",
              "    </tr>\n",
              "  </tbody>\n",
              "</table>\n",
              "</div>\n",
              "      <button class=\"colab-df-convert\" onclick=\"convertToInteractive('df-f3e860f1-f017-488f-a479-784ac21623ed')\"\n",
              "              title=\"Convert this dataframe to an interactive table.\"\n",
              "              style=\"display:none;\">\n",
              "        \n",
              "  <svg xmlns=\"http://www.w3.org/2000/svg\" height=\"24px\"viewBox=\"0 0 24 24\"\n",
              "       width=\"24px\">\n",
              "    <path d=\"M0 0h24v24H0V0z\" fill=\"none\"/>\n",
              "    <path d=\"M18.56 5.44l.94 2.06.94-2.06 2.06-.94-2.06-.94-.94-2.06-.94 2.06-2.06.94zm-11 1L8.5 8.5l.94-2.06 2.06-.94-2.06-.94L8.5 2.5l-.94 2.06-2.06.94zm10 10l.94 2.06.94-2.06 2.06-.94-2.06-.94-.94-2.06-.94 2.06-2.06.94z\"/><path d=\"M17.41 7.96l-1.37-1.37c-.4-.4-.92-.59-1.43-.59-.52 0-1.04.2-1.43.59L10.3 9.45l-7.72 7.72c-.78.78-.78 2.05 0 2.83L4 21.41c.39.39.9.59 1.41.59.51 0 1.02-.2 1.41-.59l7.78-7.78 2.81-2.81c.8-.78.8-2.07 0-2.86zM5.41 20L4 18.59l7.72-7.72 1.47 1.35L5.41 20z\"/>\n",
              "  </svg>\n",
              "      </button>\n",
              "      \n",
              "  <style>\n",
              "    .colab-df-container {\n",
              "      display:flex;\n",
              "      flex-wrap:wrap;\n",
              "      gap: 12px;\n",
              "    }\n",
              "\n",
              "    .colab-df-convert {\n",
              "      background-color: #E8F0FE;\n",
              "      border: none;\n",
              "      border-radius: 50%;\n",
              "      cursor: pointer;\n",
              "      display: none;\n",
              "      fill: #1967D2;\n",
              "      height: 32px;\n",
              "      padding: 0 0 0 0;\n",
              "      width: 32px;\n",
              "    }\n",
              "\n",
              "    .colab-df-convert:hover {\n",
              "      background-color: #E2EBFA;\n",
              "      box-shadow: 0px 1px 2px rgba(60, 64, 67, 0.3), 0px 1px 3px 1px rgba(60, 64, 67, 0.15);\n",
              "      fill: #174EA6;\n",
              "    }\n",
              "\n",
              "    [theme=dark] .colab-df-convert {\n",
              "      background-color: #3B4455;\n",
              "      fill: #D2E3FC;\n",
              "    }\n",
              "\n",
              "    [theme=dark] .colab-df-convert:hover {\n",
              "      background-color: #434B5C;\n",
              "      box-shadow: 0px 1px 3px 1px rgba(0, 0, 0, 0.15);\n",
              "      filter: drop-shadow(0px 1px 2px rgba(0, 0, 0, 0.3));\n",
              "      fill: #FFFFFF;\n",
              "    }\n",
              "  </style>\n",
              "\n",
              "      <script>\n",
              "        const buttonEl =\n",
              "          document.querySelector('#df-f3e860f1-f017-488f-a479-784ac21623ed button.colab-df-convert');\n",
              "        buttonEl.style.display =\n",
              "          google.colab.kernel.accessAllowed ? 'block' : 'none';\n",
              "\n",
              "        async function convertToInteractive(key) {\n",
              "          const element = document.querySelector('#df-f3e860f1-f017-488f-a479-784ac21623ed');\n",
              "          const dataTable =\n",
              "            await google.colab.kernel.invokeFunction('convertToInteractive',\n",
              "                                                     [key], {});\n",
              "          if (!dataTable) return;\n",
              "\n",
              "          const docLinkHtml = 'Like what you see? Visit the ' +\n",
              "            '<a target=\"_blank\" href=https://colab.research.google.com/notebooks/data_table.ipynb>data table notebook</a>'\n",
              "            + ' to learn more about interactive tables.';\n",
              "          element.innerHTML = '';\n",
              "          dataTable['output_type'] = 'display_data';\n",
              "          await google.colab.output.renderOutput(dataTable, element);\n",
              "          const docLink = document.createElement('div');\n",
              "          docLink.innerHTML = docLinkHtml;\n",
              "          element.appendChild(docLink);\n",
              "        }\n",
              "      </script>\n",
              "    </div>\n",
              "  </div>\n",
              "  "
            ]
          },
          "metadata": {},
          "execution_count": 59
        }
      ]
    },
    {
      "cell_type": "code",
      "source": [
        "sns.set_style('ticks')\n",
        "fig, ax = plt.subplots()\n",
        "fig.set_size_inches(11, 8)\n",
        "\n",
        "\n",
        "ax = sns.boxplot(x = 'Type', y = 'Sentiment_Polarity', data = merged_df)\n",
        "ax.set_title('Sentiment Polarity Distribution')\n"
      ],
      "metadata": {
        "colab": {
          "base_uri": "https://localhost:8080/",
          "height": 530
        },
        "id": "xex0rfCJR8aP",
        "outputId": "8e99f2f8-30a1-445a-bb3d-bc51fae66f10"
      },
      "execution_count": null,
      "outputs": [
        {
          "output_type": "execute_result",
          "data": {
            "text/plain": [
              "Text(0.5, 1.0, 'Sentiment Polarity Distribution')"
            ]
          },
          "metadata": {},
          "execution_count": 60
        },
        {
          "output_type": "display_data",
          "data": {
            "text/plain": [
              "<Figure size 792x576 with 1 Axes>"
            ],
            "image/png": "[encoded data removed]"
          },
          "metadata": {}
        }
      ]
    },
    {
      "cell_type": "markdown",
      "source": [
        "#**Filter out \"junk\" apps**#"
      ],
      "metadata": {
        "id": "V5CJg6vuSGEo"
      }
    },
    {
      "cell_type": "code",
      "source": [
        "apps_under_100 = popular_app_cats[popular_app_cats[\"Price\"]<100]\n",
        "\n",
        "fig, ax = plt.subplots()\n",
        "fig.set_size_inches(15, 8)\n",
        "\n",
        "ax = sns.stripplot(x = \"Price\", y =\"Category\", data = apps_under_100, jitter = True, linewidth = 1)\n",
        "ax.set_title('App pricing trend across categories after filtering for junk apps')\n"
      ],
      "metadata": {
        "colab": {
          "base_uri": "https://localhost:8080/"
        },
        "id": "z8PqDNTySCJX",
        "outputId": "27f81eac-b154-4f6e-c2ce-b20b0eb62bd0"
      },
      "execution_count": null,
      "outputs": [
        {
          "output_type": "execute_result",
          "data": {
            "text/plain": [
              "Text(0.5, 1.0, 'App pricing trend across categories after filtering for junk apps')"
            ]
          },
          "metadata": {},
          "execution_count": 61
        },
        {
          "output_type": "display_data",
          "data": {
            "text/plain": [
              "<Figure size 1080x576 with 1 Axes>"
            ],
            "image/png": "[encoded data removed]"
          },
          "metadata": {}
        }
      ]
    },
    {
      "cell_type": "code",
      "source": [],
      "metadata": {
        "id": "-mTW7E_8SNwY"
      },
      "execution_count": null,
      "outputs": []
    },
    {
      "cell_type": "markdown",
      "source": [
        "#**Solution of Business Objective**#"
      ],
      "metadata": {
        "id": "9JgVky7kSysw"
      }
    },
    {
      "cell_type": "markdown",
      "source": [
        "As per the above analysis FAMILY category has very much scope because it has all age group people. second category is GAME that has also scope.\n",
        "\n",
        "\n",
        "\n",
        "Eventhough apps from the categories like FAMILY, SOCIAL, COMMUNICATION and ENTERTAINMENT of having the highest amount of installs, rating and reviews are reflecting the current trend of Android users, they are not even appearing as category in the top 5 most expensive apps in the store (which are mostly from FINANCE and LIFESTYLE). As a conclsuion, we learnt that the current trend in the Android market are mostly from these categories which either assisting, communicating or entertaining apps."
      ],
      "metadata": {
        "id": "8t4SE4beS0AY"
      }
    },
    {
      "cell_type": "markdown",
      "source": [
        "#**Conclusion**#"
      ],
      "metadata": {
        "id": "YXpIt9MhSOOp"
      }
    },
    {
      "cell_type": "markdown",
      "source": [
        "After analyzing the dataset we have got answers to some of the serious & interesting facts which any of the android users would love to know.\n",
        "\n",
        "a) Top 10 Highest rating Apps in google play store in terms of categories\n",
        "\n",
        "b) Number of Application in terms of Category\n",
        "\n",
        "c) Top 10 apps which has more downloads\n",
        "\n",
        "d) Which 10 apps from the 'FAMILY' category are having the lowest rating and highest rating.\n",
        "\n",
        "e) Free and Paid Apps\n",
        "\n",
        "f) Relation between app category and app price\n",
        "\n",
        "\n",
        "The Google Play Store Apps report provides some useful insights regarding the trending of the apps in the play store. As per the graphs visualizations shown above, most of the trending apps (in terms of users' installs) are from the categories like GAME, COMMUNICATION, and TOOL even though the amount of available apps from these categories are twice as much lesser than the category FAMILY. The trending of these apps are most probably due to their nature of being able to entertain or assist the user. Besides, it also shows a good trend where we can see that developers from these categories are focusing on the quality instead of the quantity of the apps.\n",
        "\n",
        "Other than that, the charts shown above actually implies that most of the apps having good ratings of above 4.0 are mostly confirmed to have high amount of reviews and user installs. There are some spikes in term of size and price but it shouldn't reflect that apps with high rating are mostly big in size and pricy as by looking at the graphs they are most probably are due to some minority. Futhermore, most of the apps that are having high amount of reviews are from the categories of SOCIAL and GAME like Instagram, Clash of Clans etc.\n",
        "\n",
        "\n"
      ],
      "metadata": {
        "id": "VF0UqgUOiA0Z"
      }
    }
  ]
}